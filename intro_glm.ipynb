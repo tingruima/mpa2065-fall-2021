{
 "cells": [
  {
   "cell_type": "markdown",
   "metadata": {
    "slideshow": {
     "slide_type": "slide"
    }
   },
   "source": [
    "<center><h1>Generalized Linear Models in R</h1></center>"
   ]
  },
  {
   "cell_type": "markdown",
   "metadata": {
    "slideshow": {
     "slide_type": "subslide"
    }
   },
   "source": [
    "# 1. Generalized Linear Models\n",
    "\n",
    "  - Family of models _including_ linear models\n",
    "  - Generalization of linear models to included categorical and/or non-normaly distributed dependent/outcome variable\n",
    "  - Examples:\n",
    "    + Binomial logistic regression\n",
    "    + Multinomial regression\n",
    "    + Poisson regression"
   ]
  },
  {
   "cell_type": "markdown",
   "metadata": {
    "slideshow": {
     "slide_type": "subslide"
    }
   },
   "source": [
    " ## 1.1 Note on Terminology\n",
    "  - General Linear Model $\\ne$ General**ized** Linear Model\n",
    "\n",
    "  - General linear model refers to models with a continuous outcome variable, and assumption of normality\n",
    "    + ANOVA (and friends)\n",
    "    + Linear regression\n",
    "\n",
    "  - Term General**ized** Linear Model used to refer to a family of models for categorical and/or non-normally distributed outcome variables \n",
    "      "
   ]
  },
  {
   "cell_type": "markdown",
   "metadata": {
    "slideshow": {
     "slide_type": "slide"
    }
   },
   "source": [
    "# 2 Binomial Logistic Regression\n",
    "\n",
    "  - Linear regression assumes a continuous outcome variable\n",
    "\n",
    "  - If the outcome variable is _not_ continuous, we need a different approach. \n",
    "        \n",
    "  - In the case of a binary outcome variable, we model $\\text{Pr}(y_i = 1)$\n"
   ]
  },
  {
   "cell_type": "markdown",
   "metadata": {
    "slideshow": {
     "slide_type": "subslide"
    }
   },
   "source": [
    "## 2.1 Logistic Regression vs. Linear Regression\n",
    "    \n",
    "Differences from linear regression:\n",
    "  - Assumes outcome is bounded by $0$ and $1$\n",
    "    + that is $0 \\le E(y_i) = \\pi_i \\le 1$\n",
    "  - Variance of $y$ is _not_ constant (i.e., not the same for all $y_i$)\n",
    "  - Similarly, variance of $\\varepsilon$ is not constant\n",
    "  - Computational differences (i.e., closed-form vs numerical methods)\n"
   ]
  },
  {
   "cell_type": "markdown",
   "metadata": {
    "slideshow": {
     "slide_type": "subslide"
    }
   },
   "source": [
    "## 2.2 Components of Generalized Linear Models\n",
    "Recall the form of the linear model:\n",
    "        \n",
    "$$ y = \\beta_0 + \\beta_1 x_1 + ... + \\beta_p x_p + \\varepsilon $$ \n",
    "        \n",
    "\n",
    "which can also be written in matrix notation as\n",
    "        \n",
    "$$\\mathbf{y} = \\mathbf{X} \\boldsymbol{\\beta} + \\boldsymbol{\\varepsilon} $$\n",
    "        \n",
    "where $\\mathbf{X} \\boldsymbol{\\beta}$ is the systemic component and $\\boldsymbol{\\varepsilon}$ is the random component.\n"
   ]
  },
  {
   "cell_type": "markdown",
   "metadata": {
    "slideshow": {
     "slide_type": "subslide"
    }
   },
   "source": [
    "### 2.2.1 Components of Generalized Linear Model (cont.)\n",
    "\n",
    "Form of GLM:\n",
    "$$g(\\mu) = \\mathbf{X} \\boldsymbol{\\beta}$$\n",
    "\n",
    "Generalized linear models have 3 components:\n",
    "1. Systemic component\n",
    "  - Same as linear regression (e.g., $\\mathbf{X} \\boldsymbol{\\beta}$)\n",
    "2. Response distribution assumption\n",
    "  - Random component of the model\n",
    "  - Specifies the probabilistic mechanism by which responses were generated\n",
    "3. Link function\n",
    "  - This is $g(\\cdot)$ in equation above\n"
   ]
  },
  {
   "cell_type": "markdown",
   "metadata": {
    "slideshow": {
     "slide_type": "subslide"
    }
   },
   "source": [
    "### 2.2.2 The Link Function\n",
    "\n",
    "Link function is a characteristic feature of generalized linear models\n",
    "\n",
    "A link function:\n",
    "1. Connects the systemic component to response (i.e., \"links\" them) \n",
    " - Allows us to map a linear function with range $\\left( - \\infty, \\infty \\right)$ to some new range; e.g., $\\left(0, 1\\right)$\n",
    "2. Differs according to the species of GLM in question (and even within)\n",
    "3. Similar to \"activation functions\" in artificial neural networks\n"
   ]
  },
  {
   "cell_type": "markdown",
   "metadata": {
    "slideshow": {
     "slide_type": "subslide"
    }
   },
   "source": [
    "### 2.2.3 Binomial Logistic Regression\n",
    "Logistic regression with a single predictor:\n",
    "\n",
    "\\begin{equation*}\n",
    "\\begin{split}\n",
    "\\pi(x_1) & = \\frac{\\exp{(\\beta_0 + \\beta_1 x_1 )}}{1 + \\exp{(\\beta_0 + \\beta_1 x_1 )}} \\\\\n",
    "& \\\\\n",
    "& = \\frac{1}{1 + \\exp{(- \\eta )}}\n",
    "\\end{split}\n",
    "\\end{equation*}\n",
    "where $\\eta = \\beta_0 + \\beta_1 x_1$"
   ]
  },
  {
   "cell_type": "markdown",
   "metadata": {
    "slideshow": {
     "slide_type": "subslide"
    }
   },
   "source": [
    "### 2.2.4 Binomial Logistic Regression\n",
    "$$ \\pi(x_1) = \\frac{\\exp{(\\beta_0 + \\beta_1 x_1 )}}{1 + \\exp{(\\beta_0 + \\beta_1 x_1 )}} $$\n",
    "\n",
    "\n",
    "Note that the $ \\beta_0 + \\beta_1 x_1 $ in the above equation is the same as we saw in linear regression. This is called the _linear predictor_ in logistic regression"
   ]
  },
  {
   "cell_type": "markdown",
   "metadata": {
    "slideshow": {
     "slide_type": "subslide"
    }
   },
   "source": [
    "### 2.2.5 Interpreting Parameter Estimates\n",
    "Interpretation of logistic regression parameter estimates:\n",
    "\n",
    "\n",
    "1. Slightly different than linear regression\n",
    "2. Recall our model is $\\text{Pr}\\left(y_i = 1\\right) = \\text{logit}^{-1}\\left(\\mathbf{X} \\boldsymbol{\\beta}\\right)$\n",
    "3. Regression parameters estimates are on logit scale (log odds), \n",
    "  - It's common to exponentiate $\\widehat{\\boldsymbol{\\beta}}$\n",
    "  - Value of $\\text{exp}\\left(\\beta_j\\right)$ is the odds ratio of 1-unit increase on $x_j$"
   ]
  },
  {
   "cell_type": "markdown",
   "metadata": {
    "slideshow": {
     "slide_type": "subslide"
    }
   },
   "source": [
    "### 2.2.6 Model Evaluation\n",
    "\n",
    "1. Recall that $R^2$ in linear regression gives us a nice method of evaluating models (i.e., proportion of variance explained). \n",
    "2. However, in logistic regression, there is no direct analogue to $R^2$ (but there are some similar measure)\n",
    "3. Thus, we tend to rely on the information-based criteria discussed previously (e.g., AIC, BIC)\n",
    "  - These also have the advantage of penalizing unnecessary model complexity"
   ]
  },
  {
   "cell_type": "markdown",
   "metadata": {
    "slideshow": {
     "slide_type": "subslide"
    }
   },
   "source": [
    "### 2.2.7 Choice of Link Function\n",
    "Several link function options for modeling binomial data:\n",
    "\n",
    "1. Logit link (most common, by far)\n",
    "2. CDF of normal distribution (probit regression)\n",
    "3. CDF of $t$-distribution (_robit_ model; robust binomial regression)\n",
    "  - Degrees of freedom parameter allows for flexibility in accommodating outliers"
   ]
  },
  {
   "cell_type": "markdown",
   "metadata": {
    "slideshow": {
     "slide_type": "subslide"
    }
   },
   "source": [
    "### 2.2.8 When to use Logistic Regression\n",
    "\n",
    "  - Used when outcome variable takes one of two values (e.g., $0$ or $1$, \"lived\" or \"died\") \n",
    "  - Similar structure as linear regression \n",
    "\n",
    "    + Estimate effects of predictors on outcome\n",
    "    + Can have one or many predictors\n",
    "\n",
    "  - Can answer similar kinds of questions as linear regression, for example:\n",
    "    + _What is the effect of the predictor, $x$, on the outcome $y$?_"
   ]
  },
  {
   "cell_type": "markdown",
   "metadata": {
    "slideshow": {
     "slide_type": "subslide"
    }
   },
   "source": [
    "## 2.3 Single-Variable Logistic Regression in R\n",
    "\n",
    "  - Suppose we are interested in the survival of passengers on the Titanic. \n",
    "  - In particular, suppose we want to know whether a passenger's gender impacted whether or not they survived.\n",
    "  - We can investigagte this using logistic regression."
   ]
  },
  {
   "cell_type": "code",
   "execution_count": 9,
   "metadata": {
    "slideshow": {
     "slide_type": "fragment"
    }
   },
   "outputs": [
    {
     "data": {
      "text/html": [
       "<table class=\"dataframe\">\n",
       "<caption>A data.frame: 6 × 12</caption>\n",
       "<thead>\n",
       "\t<tr><th></th><th scope=col>passenger_id</th><th scope=col>survived</th><th scope=col>pclass</th><th scope=col>name</th><th scope=col>sex</th><th scope=col>age</th><th scope=col>sibsp</th><th scope=col>parch</th><th scope=col>ticket</th><th scope=col>fare</th><th scope=col>cabin</th><th scope=col>embarked</th></tr>\n",
       "\t<tr><th></th><th scope=col>&lt;int&gt;</th><th scope=col>&lt;int&gt;</th><th scope=col>&lt;int&gt;</th><th scope=col>&lt;chr&gt;</th><th scope=col>&lt;chr&gt;</th><th scope=col>&lt;dbl&gt;</th><th scope=col>&lt;int&gt;</th><th scope=col>&lt;int&gt;</th><th scope=col>&lt;chr&gt;</th><th scope=col>&lt;dbl&gt;</th><th scope=col>&lt;chr&gt;</th><th scope=col>&lt;chr&gt;</th></tr>\n",
       "</thead>\n",
       "<tbody>\n",
       "\t<tr><th scope=row>1</th><td>1</td><td>0</td><td>3</td><td>Braund, Mr. Owen Harris                            </td><td>male  </td><td>22</td><td>1</td><td>0</td><td>A/5 21171       </td><td> 7.2500</td><td>    </td><td>S</td></tr>\n",
       "\t<tr><th scope=row>2</th><td>2</td><td>1</td><td>1</td><td>Cumings, Mrs. John Bradley (Florence Briggs Thayer)</td><td>female</td><td>38</td><td>1</td><td>0</td><td>PC 17599        </td><td>71.2833</td><td>C85 </td><td>C</td></tr>\n",
       "\t<tr><th scope=row>3</th><td>3</td><td>1</td><td>3</td><td>Heikkinen, Miss. Laina                             </td><td>female</td><td>26</td><td>0</td><td>0</td><td>STON/O2. 3101282</td><td> 7.9250</td><td>    </td><td>S</td></tr>\n",
       "\t<tr><th scope=row>4</th><td>4</td><td>1</td><td>1</td><td>Futrelle, Mrs. Jacques Heath (Lily May Peel)       </td><td>female</td><td>35</td><td>1</td><td>0</td><td>113803          </td><td>53.1000</td><td>C123</td><td>S</td></tr>\n",
       "\t<tr><th scope=row>5</th><td>5</td><td>0</td><td>3</td><td>Allen, Mr. William Henry                           </td><td>male  </td><td>35</td><td>0</td><td>0</td><td>373450          </td><td> 8.0500</td><td>    </td><td>S</td></tr>\n",
       "\t<tr><th scope=row>6</th><td>6</td><td>0</td><td>3</td><td>Moran, Mr. James                                   </td><td>male  </td><td>NA</td><td>0</td><td>0</td><td>330877          </td><td> 8.4583</td><td>    </td><td>Q</td></tr>\n",
       "</tbody>\n",
       "</table>\n"
      ],
      "text/latex": [
       "A data.frame: 6 × 12\n",
       "\\begin{tabular}{r|llllllllllll}\n",
       "  & passenger\\_id & survived & pclass & name & sex & age & sibsp & parch & ticket & fare & cabin & embarked\\\\\n",
       "  & <int> & <int> & <int> & <chr> & <chr> & <dbl> & <int> & <int> & <chr> & <dbl> & <chr> & <chr>\\\\\n",
       "\\hline\n",
       "\t1 & 1 & 0 & 3 & Braund, Mr. Owen Harris                             & male   & 22 & 1 & 0 & A/5 21171        &  7.2500 &      & S\\\\\n",
       "\t2 & 2 & 1 & 1 & Cumings, Mrs. John Bradley (Florence Briggs Thayer) & female & 38 & 1 & 0 & PC 17599         & 71.2833 & C85  & C\\\\\n",
       "\t3 & 3 & 1 & 3 & Heikkinen, Miss. Laina                              & female & 26 & 0 & 0 & STON/O2. 3101282 &  7.9250 &      & S\\\\\n",
       "\t4 & 4 & 1 & 1 & Futrelle, Mrs. Jacques Heath (Lily May Peel)        & female & 35 & 1 & 0 & 113803           & 53.1000 & C123 & S\\\\\n",
       "\t5 & 5 & 0 & 3 & Allen, Mr. William Henry                            & male   & 35 & 0 & 0 & 373450           &  8.0500 &      & S\\\\\n",
       "\t6 & 6 & 0 & 3 & Moran, Mr. James                                    & male   & NA & 0 & 0 & 330877           &  8.4583 &      & Q\\\\\n",
       "\\end{tabular}\n"
      ],
      "text/markdown": [
       "\n",
       "A data.frame: 6 × 12\n",
       "\n",
       "| <!--/--> | passenger_id &lt;int&gt; | survived &lt;int&gt; | pclass &lt;int&gt; | name &lt;chr&gt; | sex &lt;chr&gt; | age &lt;dbl&gt; | sibsp &lt;int&gt; | parch &lt;int&gt; | ticket &lt;chr&gt; | fare &lt;dbl&gt; | cabin &lt;chr&gt; | embarked &lt;chr&gt; |\n",
       "|---|---|---|---|---|---|---|---|---|---|---|---|---|\n",
       "| 1 | 1 | 0 | 3 | Braund, Mr. Owen Harris                             | male   | 22 | 1 | 0 | A/5 21171        |  7.2500 | <!----> | S |\n",
       "| 2 | 2 | 1 | 1 | Cumings, Mrs. John Bradley (Florence Briggs Thayer) | female | 38 | 1 | 0 | PC 17599         | 71.2833 | C85  | C |\n",
       "| 3 | 3 | 1 | 3 | Heikkinen, Miss. Laina                              | female | 26 | 0 | 0 | STON/O2. 3101282 |  7.9250 | <!----> | S |\n",
       "| 4 | 4 | 1 | 1 | Futrelle, Mrs. Jacques Heath (Lily May Peel)        | female | 35 | 1 | 0 | 113803           | 53.1000 | C123 | S |\n",
       "| 5 | 5 | 0 | 3 | Allen, Mr. William Henry                            | male   | 35 | 0 | 0 | 373450           |  8.0500 | <!----> | S |\n",
       "| 6 | 6 | 0 | 3 | Moran, Mr. James                                    | male   | NA | 0 | 0 | 330877           |  8.4583 | <!----> | Q |\n",
       "\n"
      ],
      "text/plain": [
       "  passenger_id survived pclass\n",
       "1 1            0        3     \n",
       "2 2            1        1     \n",
       "3 3            1        3     \n",
       "4 4            1        1     \n",
       "5 5            0        3     \n",
       "6 6            0        3     \n",
       "  name                                                sex    age sibsp parch\n",
       "1 Braund, Mr. Owen Harris                             male   22  1     0    \n",
       "2 Cumings, Mrs. John Bradley (Florence Briggs Thayer) female 38  1     0    \n",
       "3 Heikkinen, Miss. Laina                              female 26  0     0    \n",
       "4 Futrelle, Mrs. Jacques Heath (Lily May Peel)        female 35  1     0    \n",
       "5 Allen, Mr. William Henry                            male   35  0     0    \n",
       "6 Moran, Mr. James                                    male   NA  0     0    \n",
       "  ticket           fare    cabin embarked\n",
       "1 A/5 21171         7.2500       S       \n",
       "2 PC 17599         71.2833 C85   C       \n",
       "3 STON/O2. 3101282  7.9250       S       \n",
       "4 113803           53.1000 C123  S       \n",
       "5 373450            8.0500       S       \n",
       "6 330877            8.4583       Q       "
      ]
     },
     "metadata": {},
     "output_type": "display_data"
    }
   ],
   "source": [
    "library(broom)\n",
    "\n",
    "titanic_df <- read.csv(\"data/titanic_subset.csv\")\n",
    "\n",
    "head(titanic_df)"
   ]
  },
  {
   "cell_type": "markdown",
   "metadata": {
    "slideshow": {
     "slide_type": "subslide"
    }
   },
   "source": [
    "### 2.3.1 Fitting the Model\n",
    "- Generalized linear models are fitted using `glm()` function"
   ]
  },
  {
   "cell_type": "code",
   "execution_count": 10,
   "metadata": {
    "slideshow": {
     "slide_type": "fragment"
    }
   },
   "outputs": [],
   "source": [
    "fm1 <- glm(survived ~ sex, titanic_df, family = binomial(link = \"logit\"))"
   ]
  },
  {
   "cell_type": "code",
   "execution_count": 11,
   "metadata": {
    "slideshow": {
     "slide_type": "fragment"
    }
   },
   "outputs": [
    {
     "data": {
      "text/html": [
       "<table class=\"dataframe\">\n",
       "<caption>A tibble: 2 × 5</caption>\n",
       "<thead>\n",
       "\t<tr><th scope=col>term</th><th scope=col>estimate</th><th scope=col>std.error</th><th scope=col>statistic</th><th scope=col>p.value</th></tr>\n",
       "\t<tr><th scope=col>&lt;chr&gt;</th><th scope=col>&lt;dbl&gt;</th><th scope=col>&lt;dbl&gt;</th><th scope=col>&lt;dbl&gt;</th><th scope=col>&lt;dbl&gt;</th></tr>\n",
       "</thead>\n",
       "<tbody>\n",
       "\t<tr><td>(Intercept)</td><td> 1.056589</td><td>0.1289864</td><td>  8.191477</td><td>2.580394e-16</td></tr>\n",
       "\t<tr><td>sexmale    </td><td>-2.513710</td><td>0.1671782</td><td>-15.036107</td><td>4.258662e-51</td></tr>\n",
       "</tbody>\n",
       "</table>\n"
      ],
      "text/latex": [
       "A tibble: 2 × 5\n",
       "\\begin{tabular}{lllll}\n",
       " term & estimate & std.error & statistic & p.value\\\\\n",
       " <chr> & <dbl> & <dbl> & <dbl> & <dbl>\\\\\n",
       "\\hline\n",
       "\t (Intercept) &  1.056589 & 0.1289864 &   8.191477 & 2.580394e-16\\\\\n",
       "\t sexmale     & -2.513710 & 0.1671782 & -15.036107 & 4.258662e-51\\\\\n",
       "\\end{tabular}\n"
      ],
      "text/markdown": [
       "\n",
       "A tibble: 2 × 5\n",
       "\n",
       "| term &lt;chr&gt; | estimate &lt;dbl&gt; | std.error &lt;dbl&gt; | statistic &lt;dbl&gt; | p.value &lt;dbl&gt; |\n",
       "|---|---|---|---|---|\n",
       "| (Intercept) |  1.056589 | 0.1289864 |   8.191477 | 2.580394e-16 |\n",
       "| sexmale     | -2.513710 | 0.1671782 | -15.036107 | 4.258662e-51 |\n",
       "\n"
      ],
      "text/plain": [
       "  term        estimate  std.error statistic  p.value     \n",
       "1 (Intercept)  1.056589 0.1289864   8.191477 2.580394e-16\n",
       "2 sexmale     -2.513710 0.1671782 -15.036107 4.258662e-51"
      ]
     },
     "metadata": {},
     "output_type": "display_data"
    },
    {
     "data": {
      "text/html": [
       "<table class=\"dataframe\">\n",
       "<caption>A tibble: 1 × 8</caption>\n",
       "<thead>\n",
       "\t<tr><th scope=col>null.deviance</th><th scope=col>df.null</th><th scope=col>logLik</th><th scope=col>AIC</th><th scope=col>BIC</th><th scope=col>deviance</th><th scope=col>df.residual</th><th scope=col>nobs</th></tr>\n",
       "\t<tr><th scope=col>&lt;dbl&gt;</th><th scope=col>&lt;int&gt;</th><th scope=col>&lt;dbl&gt;</th><th scope=col>&lt;dbl&gt;</th><th scope=col>&lt;dbl&gt;</th><th scope=col>&lt;dbl&gt;</th><th scope=col>&lt;int&gt;</th><th scope=col>&lt;int&gt;</th></tr>\n",
       "</thead>\n",
       "<tbody>\n",
       "\t<tr><td>1186.655</td><td>890</td><td>-458.902</td><td>921.8039</td><td>931.3886</td><td>917.8039</td><td>889</td><td>891</td></tr>\n",
       "</tbody>\n",
       "</table>\n"
      ],
      "text/latex": [
       "A tibble: 1 × 8\n",
       "\\begin{tabular}{llllllll}\n",
       " null.deviance & df.null & logLik & AIC & BIC & deviance & df.residual & nobs\\\\\n",
       " <dbl> & <int> & <dbl> & <dbl> & <dbl> & <dbl> & <int> & <int>\\\\\n",
       "\\hline\n",
       "\t 1186.655 & 890 & -458.902 & 921.8039 & 931.3886 & 917.8039 & 889 & 891\\\\\n",
       "\\end{tabular}\n"
      ],
      "text/markdown": [
       "\n",
       "A tibble: 1 × 8\n",
       "\n",
       "| null.deviance &lt;dbl&gt; | df.null &lt;int&gt; | logLik &lt;dbl&gt; | AIC &lt;dbl&gt; | BIC &lt;dbl&gt; | deviance &lt;dbl&gt; | df.residual &lt;int&gt; | nobs &lt;int&gt; |\n",
       "|---|---|---|---|---|---|---|---|\n",
       "| 1186.655 | 890 | -458.902 | 921.8039 | 931.3886 | 917.8039 | 889 | 891 |\n",
       "\n"
      ],
      "text/plain": [
       "  null.deviance df.null logLik   AIC      BIC      deviance df.residual nobs\n",
       "1 1186.655      890     -458.902 921.8039 931.3886 917.8039 889         891 "
      ]
     },
     "metadata": {},
     "output_type": "display_data"
    }
   ],
   "source": [
    "tidy(fm1)           # show table of regression parameter estimates\n",
    "\n",
    "glance(fm1)         # show fit indices"
   ]
  },
  {
   "cell_type": "markdown",
   "metadata": {
    "slideshow": {
     "slide_type": "subslide"
    }
   },
   "source": [
    "### 2.3.2 Using Fitted Model to Make Predictions\n",
    "\n",
    "- We can use fitted model object (e.g., `fm1`) to make predictions for new data\n",
    "- Use the `predict()` function"
   ]
  },
  {
   "cell_type": "code",
   "execution_count": 12,
   "metadata": {
    "slideshow": {
     "slide_type": "fragment"
    }
   },
   "outputs": [
    {
     "data": {
      "text/html": [
       "<strong>1:</strong> 0.188908145580594"
      ],
      "text/latex": [
       "\\textbf{1:} 0.188908145580594"
      ],
      "text/markdown": [
       "**1:** 0.188908145580594"
      ],
      "text/plain": [
       "        1 \n",
       "0.1889081 "
      ]
     },
     "metadata": {},
     "output_type": "display_data"
    }
   ],
   "source": [
    "predict(fm1, newdata = data.frame(sex = \"male\"), type = \"response\")"
   ]
  },
  {
   "cell_type": "markdown",
   "metadata": {
    "slideshow": {
     "slide_type": "slide"
    }
   },
   "source": [
    "## 3. Why do we Need Logistic Regression?"
   ]
  },
  {
   "cell_type": "code",
   "execution_count": 13,
   "metadata": {
    "slideshow": {
     "slide_type": "fragment"
    }
   },
   "outputs": [],
   "source": [
    "fm1b <- lm(survived ~ sex, titanic_df)"
   ]
  },
  {
   "cell_type": "code",
   "execution_count": 14,
   "metadata": {
    "slideshow": {
     "slide_type": "fragment"
    }
   },
   "outputs": [
    {
     "data": {
      "text/html": [
       "<table class=\"dataframe\">\n",
       "<caption>A tibble: 2 × 5</caption>\n",
       "<thead>\n",
       "\t<tr><th scope=col>term</th><th scope=col>estimate</th><th scope=col>std.error</th><th scope=col>statistic</th><th scope=col>p.value</th></tr>\n",
       "\t<tr><th scope=col>&lt;chr&gt;</th><th scope=col>&lt;dbl&gt;</th><th scope=col>&lt;dbl&gt;</th><th scope=col>&lt;dbl&gt;</th><th scope=col>&lt;dbl&gt;</th></tr>\n",
       "</thead>\n",
       "<tbody>\n",
       "\t<tr><td>(Intercept)</td><td> 0.7420382</td><td>0.02306578</td><td> 32.17052</td><td>3.349895e-151</td></tr>\n",
       "\t<tr><td>sexmale    </td><td>-0.5531301</td><td>0.02866283</td><td>-19.29782</td><td> 1.406066e-69</td></tr>\n",
       "</tbody>\n",
       "</table>\n"
      ],
      "text/latex": [
       "A tibble: 2 × 5\n",
       "\\begin{tabular}{lllll}\n",
       " term & estimate & std.error & statistic & p.value\\\\\n",
       " <chr> & <dbl> & <dbl> & <dbl> & <dbl>\\\\\n",
       "\\hline\n",
       "\t (Intercept) &  0.7420382 & 0.02306578 &  32.17052 & 3.349895e-151\\\\\n",
       "\t sexmale     & -0.5531301 & 0.02866283 & -19.29782 &  1.406066e-69\\\\\n",
       "\\end{tabular}\n"
      ],
      "text/markdown": [
       "\n",
       "A tibble: 2 × 5\n",
       "\n",
       "| term &lt;chr&gt; | estimate &lt;dbl&gt; | std.error &lt;dbl&gt; | statistic &lt;dbl&gt; | p.value &lt;dbl&gt; |\n",
       "|---|---|---|---|---|\n",
       "| (Intercept) |  0.7420382 | 0.02306578 |  32.17052 | 3.349895e-151 |\n",
       "| sexmale     | -0.5531301 | 0.02866283 | -19.29782 |  1.406066e-69 |\n",
       "\n"
      ],
      "text/plain": [
       "  term        estimate   std.error  statistic p.value      \n",
       "1 (Intercept)  0.7420382 0.02306578  32.17052 3.349895e-151\n",
       "2 sexmale     -0.5531301 0.02866283 -19.29782  1.406066e-69"
      ]
     },
     "metadata": {},
     "output_type": "display_data"
    }
   ],
   "source": [
    "tidy(fm1b)"
   ]
  },
  {
   "cell_type": "markdown",
   "metadata": {
    "slideshow": {
     "slide_type": "subslide"
    }
   },
   "source": [
    "## 3.1 Simulated Data Example"
   ]
  },
  {
   "cell_type": "code",
   "execution_count": 15,
   "metadata": {
    "slideshow": {
     "slide_type": "fragment"
    }
   },
   "outputs": [
    {
     "data": {
      "text/html": [
       "<table class=\"dataframe\">\n",
       "<caption>A tibble: 2 × 5</caption>\n",
       "<thead>\n",
       "\t<tr><th scope=col>term</th><th scope=col>estimate</th><th scope=col>std.error</th><th scope=col>statistic</th><th scope=col>p.value</th></tr>\n",
       "\t<tr><th scope=col>&lt;chr&gt;</th><th scope=col>&lt;dbl&gt;</th><th scope=col>&lt;dbl&gt;</th><th scope=col>&lt;dbl&gt;</th><th scope=col>&lt;dbl&gt;</th></tr>\n",
       "</thead>\n",
       "<tbody>\n",
       "\t<tr><td>(Intercept)</td><td> 0.7538782</td><td>0.01073430</td><td> 70.23078</td><td>0.000000e+00</td></tr>\n",
       "\t<tr><td>x          </td><td>-0.1125586</td><td>0.01050876</td><td>-10.71094</td><td>7.589294e-26</td></tr>\n",
       "</tbody>\n",
       "</table>\n"
      ],
      "text/latex": [
       "A tibble: 2 × 5\n",
       "\\begin{tabular}{lllll}\n",
       " term & estimate & std.error & statistic & p.value\\\\\n",
       " <chr> & <dbl> & <dbl> & <dbl> & <dbl>\\\\\n",
       "\\hline\n",
       "\t (Intercept) &  0.7538782 & 0.01073430 &  70.23078 & 0.000000e+00\\\\\n",
       "\t x           & -0.1125586 & 0.01050876 & -10.71094 & 7.589294e-26\\\\\n",
       "\\end{tabular}\n"
      ],
      "text/markdown": [
       "\n",
       "A tibble: 2 × 5\n",
       "\n",
       "| term &lt;chr&gt; | estimate &lt;dbl&gt; | std.error &lt;dbl&gt; | statistic &lt;dbl&gt; | p.value &lt;dbl&gt; |\n",
       "|---|---|---|---|---|\n",
       "| (Intercept) |  0.7538782 | 0.01073430 |  70.23078 | 0.000000e+00 |\n",
       "| x           | -0.1125586 | 0.01050876 | -10.71094 | 7.589294e-26 |\n",
       "\n"
      ],
      "text/plain": [
       "  term        estimate   std.error  statistic p.value     \n",
       "1 (Intercept)  0.7538782 0.01073430  70.23078 0.000000e+00\n",
       "2 x           -0.1125586 0.01050876 -10.71094 7.589294e-26"
      ]
     },
     "metadata": {},
     "output_type": "display_data"
    }
   ],
   "source": [
    "n <- 1500                           # set sample size\n",
    "beta0 <- 1.2                        # specify regression parameters\n",
    "beta1 <- -0.7\n",
    "\n",
    "x <- rnorm(n)           \n",
    "\n",
    "invlogit <- function(eta) {         # Define a function to compute the inverse logit. \n",
    "    res <- 1/(1 + exp(-eta))        # Recall this is our link function.\n",
    "    return(res)\n",
    "}\n",
    "\n",
    "pr  <- invlogit(beta0 + beta1*x)\n",
    "y   <- rbinom(n, 1, pr)\n",
    "dat <- data.frame(y, x)\n",
    "\n",
    "lm1 <- lm(y ~ x, dat)               # Fit a linear model and a binomial logistic model\n",
    "\n",
    "glm1 <- glm(y ~ x, dat, family = binomial(link = \"logit\"))\n",
    "\n",
    "tidy(lm1)"
   ]
  },
  {
   "cell_type": "markdown",
   "metadata": {
    "slideshow": {
     "slide_type": "subslide"
    }
   },
   "source": [
    "### 3.1.1 Comparing our Linear Model and Bionomial Logistic Model\n",
    "\n",
    " - Compare linear regression to logistic \n",
    " - Logistic does better job of recovering betas (i.e., `1.2` and `-0.7`)"
   ]
  },
  {
   "cell_type": "code",
   "execution_count": 16,
   "metadata": {
    "slideshow": {
     "slide_type": "fragment"
    }
   },
   "outputs": [
    {
     "data": {
      "text/html": [
       "<table class=\"dataframe\">\n",
       "<caption>A tibble: 2 × 5</caption>\n",
       "<thead>\n",
       "\t<tr><th scope=col>term</th><th scope=col>estimate</th><th scope=col>std.error</th><th scope=col>statistic</th><th scope=col>p.value</th></tr>\n",
       "\t<tr><th scope=col>&lt;chr&gt;</th><th scope=col>&lt;dbl&gt;</th><th scope=col>&lt;dbl&gt;</th><th scope=col>&lt;dbl&gt;</th><th scope=col>&lt;dbl&gt;</th></tr>\n",
       "</thead>\n",
       "<tbody>\n",
       "\t<tr><td>(Intercept)</td><td> 0.7538782</td><td>0.01073430</td><td> 70.23078</td><td>0.000000e+00</td></tr>\n",
       "\t<tr><td>x          </td><td>-0.1125586</td><td>0.01050876</td><td>-10.71094</td><td>7.589294e-26</td></tr>\n",
       "</tbody>\n",
       "</table>\n"
      ],
      "text/latex": [
       "A tibble: 2 × 5\n",
       "\\begin{tabular}{lllll}\n",
       " term & estimate & std.error & statistic & p.value\\\\\n",
       " <chr> & <dbl> & <dbl> & <dbl> & <dbl>\\\\\n",
       "\\hline\n",
       "\t (Intercept) &  0.7538782 & 0.01073430 &  70.23078 & 0.000000e+00\\\\\n",
       "\t x           & -0.1125586 & 0.01050876 & -10.71094 & 7.589294e-26\\\\\n",
       "\\end{tabular}\n"
      ],
      "text/markdown": [
       "\n",
       "A tibble: 2 × 5\n",
       "\n",
       "| term &lt;chr&gt; | estimate &lt;dbl&gt; | std.error &lt;dbl&gt; | statistic &lt;dbl&gt; | p.value &lt;dbl&gt; |\n",
       "|---|---|---|---|---|\n",
       "| (Intercept) |  0.7538782 | 0.01073430 |  70.23078 | 0.000000e+00 |\n",
       "| x           | -0.1125586 | 0.01050876 | -10.71094 | 7.589294e-26 |\n",
       "\n"
      ],
      "text/plain": [
       "  term        estimate   std.error  statistic p.value     \n",
       "1 (Intercept)  0.7538782 0.01073430  70.23078 0.000000e+00\n",
       "2 x           -0.1125586 0.01050876 -10.71094 7.589294e-26"
      ]
     },
     "metadata": {},
     "output_type": "display_data"
    },
    {
     "data": {
      "text/html": [
       "<table class=\"dataframe\">\n",
       "<caption>A tibble: 2 × 5</caption>\n",
       "<thead>\n",
       "\t<tr><th scope=col>term</th><th scope=col>estimate</th><th scope=col>std.error</th><th scope=col>statistic</th><th scope=col>p.value</th></tr>\n",
       "\t<tr><th scope=col>&lt;chr&gt;</th><th scope=col>&lt;dbl&gt;</th><th scope=col>&lt;dbl&gt;</th><th scope=col>&lt;dbl&gt;</th><th scope=col>&lt;dbl&gt;</th></tr>\n",
       "</thead>\n",
       "<tbody>\n",
       "\t<tr><td>(Intercept)</td><td> 1.2280978</td><td>0.06560276</td><td>18.720216</td><td>3.387750e-78</td></tr>\n",
       "\t<tr><td>x          </td><td>-0.6646309</td><td>0.06679843</td><td>-9.949798</td><td>2.526963e-23</td></tr>\n",
       "</tbody>\n",
       "</table>\n"
      ],
      "text/latex": [
       "A tibble: 2 × 5\n",
       "\\begin{tabular}{lllll}\n",
       " term & estimate & std.error & statistic & p.value\\\\\n",
       " <chr> & <dbl> & <dbl> & <dbl> & <dbl>\\\\\n",
       "\\hline\n",
       "\t (Intercept) &  1.2280978 & 0.06560276 & 18.720216 & 3.387750e-78\\\\\n",
       "\t x           & -0.6646309 & 0.06679843 & -9.949798 & 2.526963e-23\\\\\n",
       "\\end{tabular}\n"
      ],
      "text/markdown": [
       "\n",
       "A tibble: 2 × 5\n",
       "\n",
       "| term &lt;chr&gt; | estimate &lt;dbl&gt; | std.error &lt;dbl&gt; | statistic &lt;dbl&gt; | p.value &lt;dbl&gt; |\n",
       "|---|---|---|---|---|\n",
       "| (Intercept) |  1.2280978 | 0.06560276 | 18.720216 | 3.387750e-78 |\n",
       "| x           | -0.6646309 | 0.06679843 | -9.949798 | 2.526963e-23 |\n",
       "\n"
      ],
      "text/plain": [
       "  term        estimate   std.error  statistic p.value     \n",
       "1 (Intercept)  1.2280978 0.06560276 18.720216 3.387750e-78\n",
       "2 x           -0.6646309 0.06679843 -9.949798 2.526963e-23"
      ]
     },
     "metadata": {},
     "output_type": "display_data"
    }
   ],
   "source": [
    "tidy(lm1)\n",
    "\n",
    "tidy(glm1)"
   ]
  },
  {
   "cell_type": "markdown",
   "metadata": {
    "slideshow": {
     "slide_type": "subslide"
    }
   },
   "source": [
    "\n",
    "# 4. Multivariate Binomial Logistic Regression\n",
    "\n",
    "Suppose now we want to investigate the effect of both sex and age on survival. We use the model below. "
   ]
  },
  {
   "cell_type": "code",
   "execution_count": 17,
   "metadata": {
    "slideshow": {
     "slide_type": "fragment"
    }
   },
   "outputs": [],
   "source": [
    "fm2 <- glm(survived ~ sex + age, titanic_df, family = binomial(link = \"logit\"))"
   ]
  },
  {
   "cell_type": "code",
   "execution_count": 18,
   "metadata": {
    "slideshow": {
     "slide_type": "fragment"
    }
   },
   "outputs": [
    {
     "data": {
      "text/html": [
       "<table class=\"dataframe\">\n",
       "<caption>A tibble: 3 × 5</caption>\n",
       "<thead>\n",
       "\t<tr><th scope=col>term</th><th scope=col>estimate</th><th scope=col>std.error</th><th scope=col>statistic</th><th scope=col>p.value</th></tr>\n",
       "\t<tr><th scope=col>&lt;chr&gt;</th><th scope=col>&lt;dbl&gt;</th><th scope=col>&lt;dbl&gt;</th><th scope=col>&lt;dbl&gt;</th><th scope=col>&lt;dbl&gt;</th></tr>\n",
       "</thead>\n",
       "<tbody>\n",
       "\t<tr><td>(Intercept)</td><td> 1.2772732</td><td>0.230168800</td><td>  5.5492891</td><td>2.868335e-08</td></tr>\n",
       "\t<tr><td>sexmale    </td><td>-2.4659202</td><td>0.185383505</td><td>-13.3017237</td><td>2.261930e-40</td></tr>\n",
       "\t<tr><td>age        </td><td>-0.0054259</td><td>0.006309915</td><td> -0.8599006</td><td>3.898438e-01</td></tr>\n",
       "</tbody>\n",
       "</table>\n"
      ],
      "text/latex": [
       "A tibble: 3 × 5\n",
       "\\begin{tabular}{lllll}\n",
       " term & estimate & std.error & statistic & p.value\\\\\n",
       " <chr> & <dbl> & <dbl> & <dbl> & <dbl>\\\\\n",
       "\\hline\n",
       "\t (Intercept) &  1.2772732 & 0.230168800 &   5.5492891 & 2.868335e-08\\\\\n",
       "\t sexmale     & -2.4659202 & 0.185383505 & -13.3017237 & 2.261930e-40\\\\\n",
       "\t age         & -0.0054259 & 0.006309915 &  -0.8599006 & 3.898438e-01\\\\\n",
       "\\end{tabular}\n"
      ],
      "text/markdown": [
       "\n",
       "A tibble: 3 × 5\n",
       "\n",
       "| term &lt;chr&gt; | estimate &lt;dbl&gt; | std.error &lt;dbl&gt; | statistic &lt;dbl&gt; | p.value &lt;dbl&gt; |\n",
       "|---|---|---|---|---|\n",
       "| (Intercept) |  1.2772732 | 0.230168800 |   5.5492891 | 2.868335e-08 |\n",
       "| sexmale     | -2.4659202 | 0.185383505 | -13.3017237 | 2.261930e-40 |\n",
       "| age         | -0.0054259 | 0.006309915 |  -0.8599006 | 3.898438e-01 |\n",
       "\n"
      ],
      "text/plain": [
       "  term        estimate   std.error   statistic   p.value     \n",
       "1 (Intercept)  1.2772732 0.230168800   5.5492891 2.868335e-08\n",
       "2 sexmale     -2.4659202 0.185383505 -13.3017237 2.261930e-40\n",
       "3 age         -0.0054259 0.006309915  -0.8599006 3.898438e-01"
      ]
     },
     "metadata": {},
     "output_type": "display_data"
    },
    {
     "data": {
      "text/html": [
       "<table class=\"dataframe\">\n",
       "<caption>A tibble: 1 × 8</caption>\n",
       "<thead>\n",
       "\t<tr><th scope=col>null.deviance</th><th scope=col>df.null</th><th scope=col>logLik</th><th scope=col>AIC</th><th scope=col>BIC</th><th scope=col>deviance</th><th scope=col>df.residual</th><th scope=col>nobs</th></tr>\n",
       "\t<tr><th scope=col>&lt;dbl&gt;</th><th scope=col>&lt;int&gt;</th><th scope=col>&lt;dbl&gt;</th><th scope=col>&lt;dbl&gt;</th><th scope=col>&lt;dbl&gt;</th><th scope=col>&lt;dbl&gt;</th><th scope=col>&lt;int&gt;</th><th scope=col>&lt;int&gt;</th></tr>\n",
       "</thead>\n",
       "<tbody>\n",
       "\t<tr><td>964.516</td><td>713</td><td>-374.9785</td><td>755.9569</td><td>769.6696</td><td>749.9569</td><td>711</td><td>714</td></tr>\n",
       "</tbody>\n",
       "</table>\n"
      ],
      "text/latex": [
       "A tibble: 1 × 8\n",
       "\\begin{tabular}{llllllll}\n",
       " null.deviance & df.null & logLik & AIC & BIC & deviance & df.residual & nobs\\\\\n",
       " <dbl> & <int> & <dbl> & <dbl> & <dbl> & <dbl> & <int> & <int>\\\\\n",
       "\\hline\n",
       "\t 964.516 & 713 & -374.9785 & 755.9569 & 769.6696 & 749.9569 & 711 & 714\\\\\n",
       "\\end{tabular}\n"
      ],
      "text/markdown": [
       "\n",
       "A tibble: 1 × 8\n",
       "\n",
       "| null.deviance &lt;dbl&gt; | df.null &lt;int&gt; | logLik &lt;dbl&gt; | AIC &lt;dbl&gt; | BIC &lt;dbl&gt; | deviance &lt;dbl&gt; | df.residual &lt;int&gt; | nobs &lt;int&gt; |\n",
       "|---|---|---|---|---|---|---|---|\n",
       "| 964.516 | 713 | -374.9785 | 755.9569 | 769.6696 | 749.9569 | 711 | 714 |\n",
       "\n"
      ],
      "text/plain": [
       "  null.deviance df.null logLik    AIC      BIC      deviance df.residual nobs\n",
       "1 964.516       713     -374.9785 755.9569 769.6696 749.9569 711         714 "
      ]
     },
     "metadata": {},
     "output_type": "display_data"
    }
   ],
   "source": [
    "tidy(fm2)\n",
    "\n",
    "glance(fm2)"
   ]
  },
  {
   "cell_type": "code",
   "execution_count": 19,
   "metadata": {
    "slideshow": {
     "slide_type": "fragment"
    }
   },
   "outputs": [
    {
     "data": {
      "text/html": [
       "<strong>1:</strong> 0.742735876793453"
      ],
      "text/latex": [
       "\\textbf{1:} 0.742735876793453"
      ],
      "text/markdown": [
       "**1:** 0.742735876793453"
      ],
      "text/plain": [
       "        1 \n",
       "0.7427359 "
      ]
     },
     "metadata": {},
     "output_type": "display_data"
    }
   ],
   "source": [
    "predict(fm2, newdata = data.frame(sex = \"female\", age = 40), type = \"response\")"
   ]
  },
  {
   "cell_type": "markdown",
   "metadata": {
    "slideshow": {
     "slide_type": "slide"
    }
   },
   "source": [
    "<center><h1>Poisson Regression Models in R</h1></center>"
   ]
  },
  {
   "cell_type": "markdown",
   "metadata": {
    "slideshow": {
     "slide_type": "slide"
    }
   },
   "source": [
    "# 5. Poisson Regression\n",
    "\n",
    "1. Form of Poisson model for single predictor\n",
    "\n",
    "$$ \\text{log}(\\mu) = \\beta_0 + \\beta_1 x_1 $$ \n",
    "\n",
    "2. Link function is $\\text{log}(\\cdot)$\n",
    "\n",
    "3. We use Poisson regression when we model count data   % (e.g., $y_i \\in \\{0, 1, 2, \\dots \\}$)\n",
    "  - Number of offspring an individual has\n",
    "  -  Number bacterial colonies in Petri dish\n",
    "4. As we saw with logistic regression, we _could_ use a linear model instead (Don't do this). but our parameter estimates would be biased, and our model inaccurate"
   ]
  },
  {
   "cell_type": "markdown",
   "metadata": {
    "slideshow": {
     "slide_type": "subslide"
    }
   },
   "source": [
    "## 5.1 Poisson Distribution\n",
    "<center>\n",
    "<img src=images/poisson_dist.png width = \"860\">\n",
    "</center>\n"
   ]
  },
  {
   "cell_type": "markdown",
   "metadata": {
    "slideshow": {
     "slide_type": "subslide"
    }
   },
   "source": [
    "## 5.2 Poisson Regression\n",
    "\n",
    "1. As with linear and logistic regression, we can use Poisson regression to estimate effects of predictors on some outcome\n",
    "\n",
    "2. We can also use fitted Poisson regression models to predict future values of some outcome variable given known values for the covariates\n",
    "\n",
    "3. Frequently used for modeling rare events"
   ]
  },
  {
   "cell_type": "markdown",
   "metadata": {
    "slideshow": {
     "slide_type": "subslide"
    }
   },
   "source": [
    "### 5.2.1 Assumptions of Poisson Regression\n",
    "1. Log-transformed outcomes are linearly related to predictors \n",
    "2. Observations are independent \n",
    "3. Distributional assumption:  $y_i | x_i \\sim \\text{Poisson}(\\lambda_i)$"
   ]
  },
  {
   "cell_type": "markdown",
   "metadata": {
    "slideshow": {
     "slide_type": "subslide"
    }
   },
   "source": [
    "### 5.2.2 Assumptions of Poisson Regression (cont.)\n",
    "\n",
    " - Note that the assumption $y_i | x_i \\sim \\text{Poisson}(\\lambda_i)$ has some important implications.\n",
    "\n",
    " - The Poisson distribution has a single parameter, $\\lambda$, which is both its mean and variance. \n",
    "\n",
    " - It is frequently the case we will have data where the variance greatly exceeds the mean. When this happens, it is wise to consider similar alternatives to the Poisson model    "
   ]
  },
  {
   "cell_type": "markdown",
   "metadata": {
    "slideshow": {
     "slide_type": "subslide"
    }
   },
   "source": [
    "### 5.2.3 Similar Alternatives to Poisson Models\n",
    "1. Quasi-Poisson regression\n",
    "2. Zero-inflated Poisson regression\n",
    "3. Negative Binomial regression"
   ]
  },
  {
   "cell_type": "markdown",
   "metadata": {
    "slideshow": {
     "slide_type": "subslide"
    }
   },
   "source": [
    "### 5.2.4 Evaluation of Poisson Regression Models\n",
    "\n",
    " - As with logistic regression, there is no direct counterpart to the $R^2$ in linear regression\n",
    "\n",
    " - Poisson regression models can be compared using AIC and BIC as we saw with linear and logistic regression"
   ]
  },
  {
   "cell_type": "markdown",
   "metadata": {
    "slideshow": {
     "slide_type": "subslide"
    }
   },
   "source": [
    "### 5.2.5 Interpreting Poisson Regression Parameters\n",
    " - We can exponentiate Poisson regression parameter estimates, and then treat them multiplicative effects"
   ]
  },
  {
   "cell_type": "markdown",
   "metadata": {
    "slideshow": {
     "slide_type": "slide"
    }
   },
   "source": [
    "# 6. Poisson Model for Number of Procedures\n",
    "\n",
    "Suppose we want to model the number of procedure for diabetes patients admitted to the hospital. We use several Poisson models below."
   ]
  },
  {
   "cell_type": "code",
   "execution_count": 20,
   "metadata": {
    "slideshow": {
     "slide_type": "fragment"
    }
   },
   "outputs": [
    {
     "data": {
      "text/html": [
       "<style>\n",
       ".list-inline {list-style: none; margin:0; padding: 0}\n",
       ".list-inline>li {display: inline-block}\n",
       ".list-inline>li:not(:last-child)::after {content: \"\\00b7\"; padding: 0 .5ex}\n",
       "</style>\n",
       "<ol class=list-inline><li>101766</li><li>50</li></ol>\n"
      ],
      "text/latex": [
       "\\begin{enumerate*}\n",
       "\\item 101766\n",
       "\\item 50\n",
       "\\end{enumerate*}\n"
      ],
      "text/markdown": [
       "1. 101766\n",
       "2. 50\n",
       "\n",
       "\n"
      ],
      "text/plain": [
       "[1] 101766     50"
      ]
     },
     "metadata": {},
     "output_type": "display_data"
    },
    {
     "data": {
      "text/html": [
       "<style>\n",
       ".list-inline {list-style: none; margin:0; padding: 0}\n",
       ".list-inline>li {display: inline-block}\n",
       ".list-inline>li:not(:last-child)::after {content: \"\\00b7\"; padding: 0 .5ex}\n",
       "</style>\n",
       "<ol class=list-inline><li>'encounter_id'</li><li>'patient_nbr'</li><li>'race'</li><li>'gender'</li><li>'age'</li><li>'weight'</li><li>'admission_type'</li><li>'discharge_disposition'</li><li>'admission_source'</li><li>'time_in_hospital'</li><li>'payer_code'</li><li>'medical_specialty'</li><li>'num_lab_procedures'</li><li>'num_procedures'</li><li>'num_medications'</li><li>'number_outpatient'</li><li>'number_emergency'</li><li>'number_inpatient'</li><li>'diag_1'</li><li>'diag_2'</li><li>'diag_3'</li><li>'number_diagnoses'</li><li>'max_glu_serum'</li><li>'A1Cresult'</li><li>'metformin'</li><li>'repaglinide'</li><li>'nateglinide'</li><li>'chlorpropamide'</li><li>'glimepiride'</li><li>'acetohexamide'</li><li>'glipizide'</li><li>'glyburide'</li><li>'tolbutamide'</li><li>'pioglitazone'</li><li>'rosiglitazone'</li><li>'acarbose'</li><li>'miglitol'</li><li>'troglitazone'</li><li>'tolazamide'</li><li>'examide'</li><li>'citoglipton'</li><li>'insulin'</li><li>'glyburide_metformin'</li><li>'glipizide_metformin'</li><li>'glimepiride_pioglitazone'</li><li>'metformin_rosiglitazone'</li><li>'metformin_pioglitazone'</li><li>'change'</li><li>'diabetesMed'</li><li>'readmitted'</li></ol>\n"
      ],
      "text/latex": [
       "\\begin{enumerate*}\n",
       "\\item 'encounter\\_id'\n",
       "\\item 'patient\\_nbr'\n",
       "\\item 'race'\n",
       "\\item 'gender'\n",
       "\\item 'age'\n",
       "\\item 'weight'\n",
       "\\item 'admission\\_type'\n",
       "\\item 'discharge\\_disposition'\n",
       "\\item 'admission\\_source'\n",
       "\\item 'time\\_in\\_hospital'\n",
       "\\item 'payer\\_code'\n",
       "\\item 'medical\\_specialty'\n",
       "\\item 'num\\_lab\\_procedures'\n",
       "\\item 'num\\_procedures'\n",
       "\\item 'num\\_medications'\n",
       "\\item 'number\\_outpatient'\n",
       "\\item 'number\\_emergency'\n",
       "\\item 'number\\_inpatient'\n",
       "\\item 'diag\\_1'\n",
       "\\item 'diag\\_2'\n",
       "\\item 'diag\\_3'\n",
       "\\item 'number\\_diagnoses'\n",
       "\\item 'max\\_glu\\_serum'\n",
       "\\item 'A1Cresult'\n",
       "\\item 'metformin'\n",
       "\\item 'repaglinide'\n",
       "\\item 'nateglinide'\n",
       "\\item 'chlorpropamide'\n",
       "\\item 'glimepiride'\n",
       "\\item 'acetohexamide'\n",
       "\\item 'glipizide'\n",
       "\\item 'glyburide'\n",
       "\\item 'tolbutamide'\n",
       "\\item 'pioglitazone'\n",
       "\\item 'rosiglitazone'\n",
       "\\item 'acarbose'\n",
       "\\item 'miglitol'\n",
       "\\item 'troglitazone'\n",
       "\\item 'tolazamide'\n",
       "\\item 'examide'\n",
       "\\item 'citoglipton'\n",
       "\\item 'insulin'\n",
       "\\item 'glyburide\\_metformin'\n",
       "\\item 'glipizide\\_metformin'\n",
       "\\item 'glimepiride\\_pioglitazone'\n",
       "\\item 'metformin\\_rosiglitazone'\n",
       "\\item 'metformin\\_pioglitazone'\n",
       "\\item 'change'\n",
       "\\item 'diabetesMed'\n",
       "\\item 'readmitted'\n",
       "\\end{enumerate*}\n"
      ],
      "text/markdown": [
       "1. 'encounter_id'\n",
       "2. 'patient_nbr'\n",
       "3. 'race'\n",
       "4. 'gender'\n",
       "5. 'age'\n",
       "6. 'weight'\n",
       "7. 'admission_type'\n",
       "8. 'discharge_disposition'\n",
       "9. 'admission_source'\n",
       "10. 'time_in_hospital'\n",
       "11. 'payer_code'\n",
       "12. 'medical_specialty'\n",
       "13. 'num_lab_procedures'\n",
       "14. 'num_procedures'\n",
       "15. 'num_medications'\n",
       "16. 'number_outpatient'\n",
       "17. 'number_emergency'\n",
       "18. 'number_inpatient'\n",
       "19. 'diag_1'\n",
       "20. 'diag_2'\n",
       "21. 'diag_3'\n",
       "22. 'number_diagnoses'\n",
       "23. 'max_glu_serum'\n",
       "24. 'A1Cresult'\n",
       "25. 'metformin'\n",
       "26. 'repaglinide'\n",
       "27. 'nateglinide'\n",
       "28. 'chlorpropamide'\n",
       "29. 'glimepiride'\n",
       "30. 'acetohexamide'\n",
       "31. 'glipizide'\n",
       "32. 'glyburide'\n",
       "33. 'tolbutamide'\n",
       "34. 'pioglitazone'\n",
       "35. 'rosiglitazone'\n",
       "36. 'acarbose'\n",
       "37. 'miglitol'\n",
       "38. 'troglitazone'\n",
       "39. 'tolazamide'\n",
       "40. 'examide'\n",
       "41. 'citoglipton'\n",
       "42. 'insulin'\n",
       "43. 'glyburide_metformin'\n",
       "44. 'glipizide_metformin'\n",
       "45. 'glimepiride_pioglitazone'\n",
       "46. 'metformin_rosiglitazone'\n",
       "47. 'metformin_pioglitazone'\n",
       "48. 'change'\n",
       "49. 'diabetesMed'\n",
       "50. 'readmitted'\n",
       "\n",
       "\n"
      ],
      "text/plain": [
       " [1] \"encounter_id\"             \"patient_nbr\"             \n",
       " [3] \"race\"                     \"gender\"                  \n",
       " [5] \"age\"                      \"weight\"                  \n",
       " [7] \"admission_type\"           \"discharge_disposition\"   \n",
       " [9] \"admission_source\"         \"time_in_hospital\"        \n",
       "[11] \"payer_code\"               \"medical_specialty\"       \n",
       "[13] \"num_lab_procedures\"       \"num_procedures\"          \n",
       "[15] \"num_medications\"          \"number_outpatient\"       \n",
       "[17] \"number_emergency\"         \"number_inpatient\"        \n",
       "[19] \"diag_1\"                   \"diag_2\"                  \n",
       "[21] \"diag_3\"                   \"number_diagnoses\"        \n",
       "[23] \"max_glu_serum\"            \"A1Cresult\"               \n",
       "[25] \"metformin\"                \"repaglinide\"             \n",
       "[27] \"nateglinide\"              \"chlorpropamide\"          \n",
       "[29] \"glimepiride\"              \"acetohexamide\"           \n",
       "[31] \"glipizide\"                \"glyburide\"               \n",
       "[33] \"tolbutamide\"              \"pioglitazone\"            \n",
       "[35] \"rosiglitazone\"            \"acarbose\"                \n",
       "[37] \"miglitol\"                 \"troglitazone\"            \n",
       "[39] \"tolazamide\"               \"examide\"                 \n",
       "[41] \"citoglipton\"              \"insulin\"                 \n",
       "[43] \"glyburide_metformin\"      \"glipizide_metformin\"     \n",
       "[45] \"glimepiride_pioglitazone\" \"metformin_rosiglitazone\" \n",
       "[47] \"metformin_pioglitazone\"   \"change\"                  \n",
       "[49] \"diabetesMed\"              \"readmitted\"              "
      ]
     },
     "metadata": {},
     "output_type": "display_data"
    }
   ],
   "source": [
    "dia_df <- read.csv(\"data/diabetes_data_clean.csv\")\n",
    "\n",
    "\n",
    "dim(dia_df)        # dimensions of dataframe (i.e., number of rows and columns)\n",
    "names(dia_df)      # get column names"
   ]
  },
  {
   "cell_type": "markdown",
   "metadata": {
    "slideshow": {
     "slide_type": "subslide"
    }
   },
   "source": [
    "## 6.1 Checking Mean and Variance\n",
    "\n",
    "- Recall the assumptions of Poisson models"
   ]
  },
  {
   "cell_type": "code",
   "execution_count": 21,
   "metadata": {
    "slideshow": {
     "slide_type": "fragment"
    }
   },
   "outputs": [
    {
     "data": {
      "text/html": [
       "1.33973036181043"
      ],
      "text/latex": [
       "1.33973036181043"
      ],
      "text/markdown": [
       "1.33973036181043"
      ],
      "text/plain": [
       "[1] 1.33973"
      ]
     },
     "metadata": {},
     "output_type": "display_data"
    },
    {
     "data": {
      "text/html": [
       "2.90977745001845"
      ],
      "text/latex": [
       "2.90977745001845"
      ],
      "text/markdown": [
       "2.90977745001845"
      ],
      "text/plain": [
       "[1] 2.909777"
      ]
     },
     "metadata": {},
     "output_type": "display_data"
    }
   ],
   "source": [
    "mean(dia_df$num_procedures)\n",
    "var(dia_df$num_procedures)"
   ]
  },
  {
   "cell_type": "markdown",
   "metadata": {
    "slideshow": {
     "slide_type": "subslide"
    }
   },
   "source": [
    "## 6.2 Fitting Poisson Regression Model\n",
    "\n",
    "- As with binomial logistic regression, we use `glm()` function"
   ]
  },
  {
   "cell_type": "code",
   "execution_count": 22,
   "metadata": {
    "slideshow": {
     "slide_type": "fragment"
    }
   },
   "outputs": [],
   "source": [
    "fm5 <- glm(num_procedures ~ number_diagnoses, dia_df, family = poisson(link = \"log\"))"
   ]
  },
  {
   "cell_type": "code",
   "execution_count": 24,
   "metadata": {
    "slideshow": {
     "slide_type": "fragment"
    }
   },
   "outputs": [
    {
     "data": {
      "text/html": [
       "<table class=\"dataframe\">\n",
       "<caption>A tibble: 2 × 5</caption>\n",
       "<thead>\n",
       "\t<tr><th scope=col>term</th><th scope=col>estimate</th><th scope=col>std.error</th><th scope=col>statistic</th><th scope=col>p.value</th></tr>\n",
       "\t<tr><th scope=col>&lt;chr&gt;</th><th scope=col>&lt;dbl&gt;</th><th scope=col>&lt;dbl&gt;</th><th scope=col>&lt;dbl&gt;</th><th scope=col>&lt;dbl&gt;</th></tr>\n",
       "</thead>\n",
       "<tbody>\n",
       "\t<tr><td>(Intercept)     </td><td>-0.08877153</td><td>0.01146249</td><td>-7.744526</td><td> 9.593902e-15</td></tr>\n",
       "\t<tr><td>number_diagnoses</td><td> 0.05073237</td><td>0.00146474</td><td>34.635746</td><td>7.322312e-263</td></tr>\n",
       "</tbody>\n",
       "</table>\n"
      ],
      "text/latex": [
       "A tibble: 2 × 5\n",
       "\\begin{tabular}{lllll}\n",
       " term & estimate & std.error & statistic & p.value\\\\\n",
       " <chr> & <dbl> & <dbl> & <dbl> & <dbl>\\\\\n",
       "\\hline\n",
       "\t (Intercept)      & -0.08877153 & 0.01146249 & -7.744526 &  9.593902e-15\\\\\n",
       "\t number\\_diagnoses &  0.05073237 & 0.00146474 & 34.635746 & 7.322312e-263\\\\\n",
       "\\end{tabular}\n"
      ],
      "text/markdown": [
       "\n",
       "A tibble: 2 × 5\n",
       "\n",
       "| term &lt;chr&gt; | estimate &lt;dbl&gt; | std.error &lt;dbl&gt; | statistic &lt;dbl&gt; | p.value &lt;dbl&gt; |\n",
       "|---|---|---|---|---|\n",
       "| (Intercept)      | -0.08877153 | 0.01146249 | -7.744526 |  9.593902e-15 |\n",
       "| number_diagnoses |  0.05073237 | 0.00146474 | 34.635746 | 7.322312e-263 |\n",
       "\n"
      ],
      "text/plain": [
       "  term             estimate    std.error  statistic p.value      \n",
       "1 (Intercept)      -0.08877153 0.01146249 -7.744526  9.593902e-15\n",
       "2 number_diagnoses  0.05073237 0.00146474 34.635746 7.322312e-263"
      ]
     },
     "metadata": {},
     "output_type": "display_data"
    },
    {
     "data": {
      "text/html": [
       "<table class=\"dataframe\">\n",
       "<caption>A tibble: 1 × 8</caption>\n",
       "<thead>\n",
       "\t<tr><th scope=col>null.deviance</th><th scope=col>df.null</th><th scope=col>logLik</th><th scope=col>AIC</th><th scope=col>BIC</th><th scope=col>deviance</th><th scope=col>df.residual</th><th scope=col>nobs</th></tr>\n",
       "\t<tr><th scope=col>&lt;dbl&gt;</th><th scope=col>&lt;int&gt;</th><th scope=col>&lt;dbl&gt;</th><th scope=col>&lt;dbl&gt;</th><th scope=col>&lt;dbl&gt;</th><th scope=col>&lt;dbl&gt;</th><th scope=col>&lt;int&gt;</th><th scope=col>&lt;int&gt;</th></tr>\n",
       "</thead>\n",
       "<tbody>\n",
       "\t<tr><td>220167.2</td><td>101765</td><td>-182193.9</td><td>364391.7</td><td>364410.8</td><td>218930.4</td><td>101764</td><td>101766</td></tr>\n",
       "</tbody>\n",
       "</table>\n"
      ],
      "text/latex": [
       "A tibble: 1 × 8\n",
       "\\begin{tabular}{llllllll}\n",
       " null.deviance & df.null & logLik & AIC & BIC & deviance & df.residual & nobs\\\\\n",
       " <dbl> & <int> & <dbl> & <dbl> & <dbl> & <dbl> & <int> & <int>\\\\\n",
       "\\hline\n",
       "\t 220167.2 & 101765 & -182193.9 & 364391.7 & 364410.8 & 218930.4 & 101764 & 101766\\\\\n",
       "\\end{tabular}\n"
      ],
      "text/markdown": [
       "\n",
       "A tibble: 1 × 8\n",
       "\n",
       "| null.deviance &lt;dbl&gt; | df.null &lt;int&gt; | logLik &lt;dbl&gt; | AIC &lt;dbl&gt; | BIC &lt;dbl&gt; | deviance &lt;dbl&gt; | df.residual &lt;int&gt; | nobs &lt;int&gt; |\n",
       "|---|---|---|---|---|---|---|---|\n",
       "| 220167.2 | 101765 | -182193.9 | 364391.7 | 364410.8 | 218930.4 | 101764 | 101766 |\n",
       "\n"
      ],
      "text/plain": [
       "  null.deviance df.null logLik    AIC      BIC      deviance df.residual nobs  \n",
       "1 220167.2      101765  -182193.9 364391.7 364410.8 218930.4 101764      101766"
      ]
     },
     "metadata": {},
     "output_type": "display_data"
    }
   ],
   "source": [
    "tidy(fm5)\n",
    "\n",
    "glance(fm5)"
   ]
  },
  {
   "cell_type": "markdown",
   "metadata": {
    "slideshow": {
     "slide_type": "subslide"
    }
   },
   "source": [
    "### 6.2.1 Plotting our Model's Variables"
   ]
  },
  {
   "cell_type": "code",
   "execution_count": 25,
   "metadata": {
    "slideshow": {
     "slide_type": "subslide"
    }
   },
   "outputs": [
    {
     "ename": "ERROR",
     "evalue": "Error in sample_frac(dia_df, 0.3): could not find function \"sample_frac\"\n",
     "output_type": "error",
     "traceback": [
      "Error in sample_frac(dia_df, 0.3): could not find function \"sample_frac\"\nTraceback:\n"
     ]
    }
   ],
   "source": [
    "df_dia_subset <- sample_frac(dia_df, 0.3)\n",
    "\n",
    "ggplot(df_dia_subset, aes(x = number_diagnoses, y = num_procedures)) +\n",
    "    geom_jitter(alpha = 0.3)"
   ]
  },
  {
   "cell_type": "markdown",
   "metadata": {
    "slideshow": {
     "slide_type": "subslide"
    }
   },
   "source": [
    "## 6.3 Adding Predictor Variables\n",
    "\n",
    "- Like linear and logistic regression, we can add arbitrary number of predictors"
   ]
  },
  {
   "cell_type": "code",
   "execution_count": 26,
   "metadata": {
    "slideshow": {
     "slide_type": "fragment"
    }
   },
   "outputs": [],
   "source": [
    "fm6 <- glm(num_procedures ~ number_diagnoses + num_medications + time_in_hospital, \n",
    "           dia_df, \n",
    "           family = poisson(link = \"log\"))"
   ]
  },
  {
   "cell_type": "code",
   "execution_count": 27,
   "metadata": {
    "slideshow": {
     "slide_type": "fragment"
    }
   },
   "outputs": [
    {
     "data": {
      "text/html": [
       "<table class=\"dataframe\">\n",
       "<caption>A tibble: 4 × 5</caption>\n",
       "<thead>\n",
       "\t<tr><th scope=col>term</th><th scope=col>estimate</th><th scope=col>std.error</th><th scope=col>statistic</th><th scope=col>p.value</th></tr>\n",
       "\t<tr><th scope=col>&lt;chr&gt;</th><th scope=col>&lt;dbl&gt;</th><th scope=col>&lt;dbl&gt;</th><th scope=col>&lt;dbl&gt;</th><th scope=col>&lt;dbl&gt;</th></tr>\n",
       "</thead>\n",
       "<tbody>\n",
       "\t<tr><td>(Intercept)     </td><td>-0.492862068</td><td>0.0117377906</td><td>-41.989339</td><td>0.000000e+00</td></tr>\n",
       "\t<tr><td>number_diagnoses</td><td>-0.005352674</td><td>0.0015156775</td><td> -3.531539</td><td>4.131496e-04</td></tr>\n",
       "\t<tr><td>num_medications </td><td> 0.043342655</td><td>0.0002880113</td><td>150.489398</td><td>0.000000e+00</td></tr>\n",
       "\t<tr><td>time_in_hospital</td><td> 0.011259141</td><td>0.0009644126</td><td> 11.674610</td><td>1.718523e-31</td></tr>\n",
       "</tbody>\n",
       "</table>\n"
      ],
      "text/latex": [
       "A tibble: 4 × 5\n",
       "\\begin{tabular}{lllll}\n",
       " term & estimate & std.error & statistic & p.value\\\\\n",
       " <chr> & <dbl> & <dbl> & <dbl> & <dbl>\\\\\n",
       "\\hline\n",
       "\t (Intercept)      & -0.492862068 & 0.0117377906 & -41.989339 & 0.000000e+00\\\\\n",
       "\t number\\_diagnoses & -0.005352674 & 0.0015156775 &  -3.531539 & 4.131496e-04\\\\\n",
       "\t num\\_medications  &  0.043342655 & 0.0002880113 & 150.489398 & 0.000000e+00\\\\\n",
       "\t time\\_in\\_hospital &  0.011259141 & 0.0009644126 &  11.674610 & 1.718523e-31\\\\\n",
       "\\end{tabular}\n"
      ],
      "text/markdown": [
       "\n",
       "A tibble: 4 × 5\n",
       "\n",
       "| term &lt;chr&gt; | estimate &lt;dbl&gt; | std.error &lt;dbl&gt; | statistic &lt;dbl&gt; | p.value &lt;dbl&gt; |\n",
       "|---|---|---|---|---|\n",
       "| (Intercept)      | -0.492862068 | 0.0117377906 | -41.989339 | 0.000000e+00 |\n",
       "| number_diagnoses | -0.005352674 | 0.0015156775 |  -3.531539 | 4.131496e-04 |\n",
       "| num_medications  |  0.043342655 | 0.0002880113 | 150.489398 | 0.000000e+00 |\n",
       "| time_in_hospital |  0.011259141 | 0.0009644126 |  11.674610 | 1.718523e-31 |\n",
       "\n"
      ],
      "text/plain": [
       "  term             estimate     std.error    statistic  p.value     \n",
       "1 (Intercept)      -0.492862068 0.0117377906 -41.989339 0.000000e+00\n",
       "2 number_diagnoses -0.005352674 0.0015156775  -3.531539 4.131496e-04\n",
       "3 num_medications   0.043342655 0.0002880113 150.489398 0.000000e+00\n",
       "4 time_in_hospital  0.011259141 0.0009644126  11.674610 1.718523e-31"
      ]
     },
     "metadata": {},
     "output_type": "display_data"
    },
    {
     "data": {
      "text/html": [
       "<table class=\"dataframe\">\n",
       "<caption>A tibble: 1 × 8</caption>\n",
       "<thead>\n",
       "\t<tr><th scope=col>null.deviance</th><th scope=col>df.null</th><th scope=col>logLik</th><th scope=col>AIC</th><th scope=col>BIC</th><th scope=col>deviance</th><th scope=col>df.residual</th><th scope=col>nobs</th></tr>\n",
       "\t<tr><th scope=col>&lt;dbl&gt;</th><th scope=col>&lt;int&gt;</th><th scope=col>&lt;dbl&gt;</th><th scope=col>&lt;dbl&gt;</th><th scope=col>&lt;dbl&gt;</th><th scope=col>&lt;dbl&gt;</th><th scope=col>&lt;int&gt;</th><th scope=col>&lt;int&gt;</th></tr>\n",
       "</thead>\n",
       "<tbody>\n",
       "\t<tr><td>220167.2</td><td>101765</td><td>-169299.7</td><td>338607.3</td><td>338645.4</td><td>193142</td><td>101762</td><td>101766</td></tr>\n",
       "</tbody>\n",
       "</table>\n"
      ],
      "text/latex": [
       "A tibble: 1 × 8\n",
       "\\begin{tabular}{llllllll}\n",
       " null.deviance & df.null & logLik & AIC & BIC & deviance & df.residual & nobs\\\\\n",
       " <dbl> & <int> & <dbl> & <dbl> & <dbl> & <dbl> & <int> & <int>\\\\\n",
       "\\hline\n",
       "\t 220167.2 & 101765 & -169299.7 & 338607.3 & 338645.4 & 193142 & 101762 & 101766\\\\\n",
       "\\end{tabular}\n"
      ],
      "text/markdown": [
       "\n",
       "A tibble: 1 × 8\n",
       "\n",
       "| null.deviance &lt;dbl&gt; | df.null &lt;int&gt; | logLik &lt;dbl&gt; | AIC &lt;dbl&gt; | BIC &lt;dbl&gt; | deviance &lt;dbl&gt; | df.residual &lt;int&gt; | nobs &lt;int&gt; |\n",
       "|---|---|---|---|---|---|---|---|\n",
       "| 220167.2 | 101765 | -169299.7 | 338607.3 | 338645.4 | 193142 | 101762 | 101766 |\n",
       "\n"
      ],
      "text/plain": [
       "  null.deviance df.null logLik    AIC      BIC      deviance df.residual nobs  \n",
       "1 220167.2      101765  -169299.7 338607.3 338645.4 193142   101762      101766"
      ]
     },
     "metadata": {},
     "output_type": "display_data"
    }
   ],
   "source": [
    "tidy(fm6)\n",
    "glance(fm6)"
   ]
  },
  {
   "cell_type": "markdown",
   "metadata": {
    "slideshow": {
     "slide_type": "subslide"
    }
   },
   "source": [
    "### 6.3.1 Plotting our Variables"
   ]
  },
  {
   "cell_type": "code",
   "execution_count": 28,
   "metadata": {
    "slideshow": {
     "slide_type": "fragment"
    }
   },
   "outputs": [
    {
     "ename": "ERROR",
     "evalue": "Error in ggplot(df_dia_subset, aes(x = time_in_hospital, y = num_procedures, : could not find function \"ggplot\"\n",
     "output_type": "error",
     "traceback": [
      "Error in ggplot(df_dia_subset, aes(x = time_in_hospital, y = num_procedures, : could not find function \"ggplot\"\nTraceback:\n"
     ]
    }
   ],
   "source": [
    "ggplot(df_dia_subset, aes(x = time_in_hospital, y = num_procedures, colour = number_diagnoses)) +\n",
    "    geom_jitter(alpha = 0.8) + \n",
    "    geom_smooth()"
   ]
  },
  {
   "cell_type": "markdown",
   "metadata": {
    "slideshow": {
     "slide_type": "slide"
    }
   },
   "source": [
    "<center><h1>GLMs with Interaction Effects in R</h1></center>"
   ]
  },
  {
   "cell_type": "markdown",
   "metadata": {
    "slideshow": {
     "slide_type": "slide"
    }
   },
   "source": [
    "# 7. Interaction Effects\n",
    "\n",
    "- Often called \"moderation\", or statistical moderation effects\n",
    "- One variable \"behaves\" differently depending on the level another\n",
    "- E.g. cigarette smoking is an _increasingly strong_ predictor of lung cancer as age increases\n"
   ]
  },
  {
   "cell_type": "markdown",
   "metadata": {
    "slideshow": {
     "slide_type": "subslide"
    }
   },
   "source": [
    "# 8. Logistic Regression with Interaction Effect\n",
    "\n",
    "- Using `titanic` data \n",
    "- Predicting survival using age and sex"
   ]
  },
  {
   "cell_type": "code",
   "execution_count": 29,
   "metadata": {
    "slideshow": {
     "slide_type": "fragment"
    }
   },
   "outputs": [
    {
     "data": {
      "text/html": [
       "<table class=\"dataframe\">\n",
       "<caption>A data.frame: 6 × 12</caption>\n",
       "<thead>\n",
       "\t<tr><th></th><th scope=col>passenger_id</th><th scope=col>survived</th><th scope=col>pclass</th><th scope=col>name</th><th scope=col>sex</th><th scope=col>age</th><th scope=col>sibsp</th><th scope=col>parch</th><th scope=col>ticket</th><th scope=col>fare</th><th scope=col>cabin</th><th scope=col>embarked</th></tr>\n",
       "\t<tr><th></th><th scope=col>&lt;int&gt;</th><th scope=col>&lt;int&gt;</th><th scope=col>&lt;int&gt;</th><th scope=col>&lt;chr&gt;</th><th scope=col>&lt;chr&gt;</th><th scope=col>&lt;dbl&gt;</th><th scope=col>&lt;int&gt;</th><th scope=col>&lt;int&gt;</th><th scope=col>&lt;chr&gt;</th><th scope=col>&lt;dbl&gt;</th><th scope=col>&lt;chr&gt;</th><th scope=col>&lt;chr&gt;</th></tr>\n",
       "</thead>\n",
       "<tbody>\n",
       "\t<tr><th scope=row>1</th><td>1</td><td>0</td><td>3</td><td>Braund, Mr. Owen Harris                            </td><td>male  </td><td>22</td><td>1</td><td>0</td><td>A/5 21171       </td><td> 7.2500</td><td>    </td><td>S</td></tr>\n",
       "\t<tr><th scope=row>2</th><td>2</td><td>1</td><td>1</td><td>Cumings, Mrs. John Bradley (Florence Briggs Thayer)</td><td>female</td><td>38</td><td>1</td><td>0</td><td>PC 17599        </td><td>71.2833</td><td>C85 </td><td>C</td></tr>\n",
       "\t<tr><th scope=row>3</th><td>3</td><td>1</td><td>3</td><td>Heikkinen, Miss. Laina                             </td><td>female</td><td>26</td><td>0</td><td>0</td><td>STON/O2. 3101282</td><td> 7.9250</td><td>    </td><td>S</td></tr>\n",
       "\t<tr><th scope=row>4</th><td>4</td><td>1</td><td>1</td><td>Futrelle, Mrs. Jacques Heath (Lily May Peel)       </td><td>female</td><td>35</td><td>1</td><td>0</td><td>113803          </td><td>53.1000</td><td>C123</td><td>S</td></tr>\n",
       "\t<tr><th scope=row>5</th><td>5</td><td>0</td><td>3</td><td>Allen, Mr. William Henry                           </td><td>male  </td><td>35</td><td>0</td><td>0</td><td>373450          </td><td> 8.0500</td><td>    </td><td>S</td></tr>\n",
       "\t<tr><th scope=row>6</th><td>6</td><td>0</td><td>3</td><td>Moran, Mr. James                                   </td><td>male  </td><td>NA</td><td>0</td><td>0</td><td>330877          </td><td> 8.4583</td><td>    </td><td>Q</td></tr>\n",
       "</tbody>\n",
       "</table>\n"
      ],
      "text/latex": [
       "A data.frame: 6 × 12\n",
       "\\begin{tabular}{r|llllllllllll}\n",
       "  & passenger\\_id & survived & pclass & name & sex & age & sibsp & parch & ticket & fare & cabin & embarked\\\\\n",
       "  & <int> & <int> & <int> & <chr> & <chr> & <dbl> & <int> & <int> & <chr> & <dbl> & <chr> & <chr>\\\\\n",
       "\\hline\n",
       "\t1 & 1 & 0 & 3 & Braund, Mr. Owen Harris                             & male   & 22 & 1 & 0 & A/5 21171        &  7.2500 &      & S\\\\\n",
       "\t2 & 2 & 1 & 1 & Cumings, Mrs. John Bradley (Florence Briggs Thayer) & female & 38 & 1 & 0 & PC 17599         & 71.2833 & C85  & C\\\\\n",
       "\t3 & 3 & 1 & 3 & Heikkinen, Miss. Laina                              & female & 26 & 0 & 0 & STON/O2. 3101282 &  7.9250 &      & S\\\\\n",
       "\t4 & 4 & 1 & 1 & Futrelle, Mrs. Jacques Heath (Lily May Peel)        & female & 35 & 1 & 0 & 113803           & 53.1000 & C123 & S\\\\\n",
       "\t5 & 5 & 0 & 3 & Allen, Mr. William Henry                            & male   & 35 & 0 & 0 & 373450           &  8.0500 &      & S\\\\\n",
       "\t6 & 6 & 0 & 3 & Moran, Mr. James                                    & male   & NA & 0 & 0 & 330877           &  8.4583 &      & Q\\\\\n",
       "\\end{tabular}\n"
      ],
      "text/markdown": [
       "\n",
       "A data.frame: 6 × 12\n",
       "\n",
       "| <!--/--> | passenger_id &lt;int&gt; | survived &lt;int&gt; | pclass &lt;int&gt; | name &lt;chr&gt; | sex &lt;chr&gt; | age &lt;dbl&gt; | sibsp &lt;int&gt; | parch &lt;int&gt; | ticket &lt;chr&gt; | fare &lt;dbl&gt; | cabin &lt;chr&gt; | embarked &lt;chr&gt; |\n",
       "|---|---|---|---|---|---|---|---|---|---|---|---|---|\n",
       "| 1 | 1 | 0 | 3 | Braund, Mr. Owen Harris                             | male   | 22 | 1 | 0 | A/5 21171        |  7.2500 | <!----> | S |\n",
       "| 2 | 2 | 1 | 1 | Cumings, Mrs. John Bradley (Florence Briggs Thayer) | female | 38 | 1 | 0 | PC 17599         | 71.2833 | C85  | C |\n",
       "| 3 | 3 | 1 | 3 | Heikkinen, Miss. Laina                              | female | 26 | 0 | 0 | STON/O2. 3101282 |  7.9250 | <!----> | S |\n",
       "| 4 | 4 | 1 | 1 | Futrelle, Mrs. Jacques Heath (Lily May Peel)        | female | 35 | 1 | 0 | 113803           | 53.1000 | C123 | S |\n",
       "| 5 | 5 | 0 | 3 | Allen, Mr. William Henry                            | male   | 35 | 0 | 0 | 373450           |  8.0500 | <!----> | S |\n",
       "| 6 | 6 | 0 | 3 | Moran, Mr. James                                    | male   | NA | 0 | 0 | 330877           |  8.4583 | <!----> | Q |\n",
       "\n"
      ],
      "text/plain": [
       "  passenger_id survived pclass\n",
       "1 1            0        3     \n",
       "2 2            1        1     \n",
       "3 3            1        3     \n",
       "4 4            1        1     \n",
       "5 5            0        3     \n",
       "6 6            0        3     \n",
       "  name                                                sex    age sibsp parch\n",
       "1 Braund, Mr. Owen Harris                             male   22  1     0    \n",
       "2 Cumings, Mrs. John Bradley (Florence Briggs Thayer) female 38  1     0    \n",
       "3 Heikkinen, Miss. Laina                              female 26  0     0    \n",
       "4 Futrelle, Mrs. Jacques Heath (Lily May Peel)        female 35  1     0    \n",
       "5 Allen, Mr. William Henry                            male   35  0     0    \n",
       "6 Moran, Mr. James                                    male   NA  0     0    \n",
       "  ticket           fare    cabin embarked\n",
       "1 A/5 21171         7.2500       S       \n",
       "2 PC 17599         71.2833 C85   C       \n",
       "3 STON/O2. 3101282  7.9250       S       \n",
       "4 113803           53.1000 C123  S       \n",
       "5 373450            8.0500       S       \n",
       "6 330877            8.4583       Q       "
      ]
     },
     "metadata": {},
     "output_type": "display_data"
    }
   ],
   "source": [
    "titanic_df <- read.csv(\"data/titanic_subset.csv\")\n",
    "\n",
    "head(titanic_df)"
   ]
  },
  {
   "cell_type": "markdown",
   "metadata": {
    "slideshow": {
     "slide_type": "subslide"
    }
   },
   "source": [
    "## 8.1 Fitting Model with Interaction Term"
   ]
  },
  {
   "cell_type": "code",
   "execution_count": 30,
   "metadata": {
    "slideshow": {
     "slide_type": "fragment"
    }
   },
   "outputs": [
    {
     "data": {
      "text/html": [
       "<table class=\"dataframe\">\n",
       "<caption>A tibble: 4 × 5</caption>\n",
       "<thead>\n",
       "\t<tr><th scope=col>term</th><th scope=col>estimate</th><th scope=col>std.error</th><th scope=col>statistic</th><th scope=col>p.value</th></tr>\n",
       "\t<tr><th scope=col>&lt;chr&gt;</th><th scope=col>&lt;dbl&gt;</th><th scope=col>&lt;dbl&gt;</th><th scope=col>&lt;dbl&gt;</th><th scope=col>&lt;dbl&gt;</th></tr>\n",
       "</thead>\n",
       "<tbody>\n",
       "\t<tr><td>(Intercept)</td><td> 0.59380093</td><td>0.31032443</td><td> 1.913484</td><td>0.055686078</td></tr>\n",
       "\t<tr><td>sexmale    </td><td>-1.31775110</td><td>0.40842445</td><td>-3.226426</td><td>0.001253468</td></tr>\n",
       "\t<tr><td>age        </td><td> 0.01970198</td><td>0.01057286</td><td> 1.863449</td><td>0.062399191</td></tr>\n",
       "\t<tr><td>sexmale:age</td><td>-0.04111845</td><td>0.01355105</td><td>-3.034336</td><td>0.002410658</td></tr>\n",
       "</tbody>\n",
       "</table>\n"
      ],
      "text/latex": [
       "A tibble: 4 × 5\n",
       "\\begin{tabular}{lllll}\n",
       " term & estimate & std.error & statistic & p.value\\\\\n",
       " <chr> & <dbl> & <dbl> & <dbl> & <dbl>\\\\\n",
       "\\hline\n",
       "\t (Intercept) &  0.59380093 & 0.31032443 &  1.913484 & 0.055686078\\\\\n",
       "\t sexmale     & -1.31775110 & 0.40842445 & -3.226426 & 0.001253468\\\\\n",
       "\t age         &  0.01970198 & 0.01057286 &  1.863449 & 0.062399191\\\\\n",
       "\t sexmale:age & -0.04111845 & 0.01355105 & -3.034336 & 0.002410658\\\\\n",
       "\\end{tabular}\n"
      ],
      "text/markdown": [
       "\n",
       "A tibble: 4 × 5\n",
       "\n",
       "| term &lt;chr&gt; | estimate &lt;dbl&gt; | std.error &lt;dbl&gt; | statistic &lt;dbl&gt; | p.value &lt;dbl&gt; |\n",
       "|---|---|---|---|---|\n",
       "| (Intercept) |  0.59380093 | 0.31032443 |  1.913484 | 0.055686078 |\n",
       "| sexmale     | -1.31775110 | 0.40842445 | -3.226426 | 0.001253468 |\n",
       "| age         |  0.01970198 | 0.01057286 |  1.863449 | 0.062399191 |\n",
       "| sexmale:age | -0.04111845 | 0.01355105 | -3.034336 | 0.002410658 |\n",
       "\n"
      ],
      "text/plain": [
       "  term        estimate    std.error  statistic p.value    \n",
       "1 (Intercept)  0.59380093 0.31032443  1.913484 0.055686078\n",
       "2 sexmale     -1.31775110 0.40842445 -3.226426 0.001253468\n",
       "3 age          0.01970198 0.01057286  1.863449 0.062399191\n",
       "4 sexmale:age -0.04111845 0.01355105 -3.034336 0.002410658"
      ]
     },
     "metadata": {},
     "output_type": "display_data"
    }
   ],
   "source": [
    "fm3 <- glm(survived ~ sex + age + age*sex, titanic_df, family = binomial(link = \"logit\"))\n",
    "\n",
    "tidy(fm3)"
   ]
  },
  {
   "cell_type": "markdown",
   "metadata": {
    "slideshow": {
     "slide_type": "subslide"
    }
   },
   "source": [
    "### 8.1.1 Plotting the Effects"
   ]
  },
  {
   "cell_type": "code",
   "execution_count": 31,
   "metadata": {
    "slideshow": {
     "slide_type": "fragment"
    }
   },
   "outputs": [
    {
     "ename": "ERROR",
     "evalue": "Error in ggplot(titanic_df, aes(x = age, y = as.numeric(survived), color = sex)): could not find function \"ggplot\"\n",
     "output_type": "error",
     "traceback": [
      "Error in ggplot(titanic_df, aes(x = age, y = as.numeric(survived), color = sex)): could not find function \"ggplot\"\nTraceback:\n"
     ]
    }
   ],
   "source": [
    "ggplot(titanic_df, aes(x = age, y = as.numeric(survived), color = sex)) +\n",
    "    stat_smooth(method = \"glm\", alpha = 0.2, size = 2, aes(fill = sex)) +\n",
    "    geom_point(position=position_jitter(height = 0.03, width = 0)) +\n",
    "    xlab(\"Age\") + \n",
    "    ylab(\"Pr(survived)\")"
   ]
  },
  {
   "cell_type": "markdown",
   "metadata": {
    "slideshow": {
     "slide_type": "subslide"
    }
   },
   "source": [
    "### 8.1.2 Predictions using Fitted Model"
   ]
  },
  {
   "cell_type": "code",
   "execution_count": 32,
   "metadata": {
    "slideshow": {
     "slide_type": "fragment"
    }
   },
   "outputs": [
    {
     "data": {
      "text/html": [
       "<strong>1:</strong> 0.829048659321466"
      ],
      "text/latex": [
       "\\textbf{1:} 0.829048659321466"
      ],
      "text/markdown": [
       "**1:** 0.829048659321466"
      ],
      "text/plain": [
       "        1 \n",
       "0.8290487 "
      ]
     },
     "metadata": {},
     "output_type": "display_data"
    }
   ],
   "source": [
    "fm2 <- glm(survived ~ age + sex + age*sex, titanic_df, family = binomial(link = \"logit\"))\n",
    "\n",
    "predict(fm2, newdata=data.frame(age = 50, sex = \"female\"), type = \"response\")"
   ]
  },
  {
   "cell_type": "code",
   "execution_count": null,
   "metadata": {},
   "outputs": [],
   "source": []
  }
 ],
 "metadata": {
  "@webio": {
   "lastCommId": null,
   "lastKernelId": null
  },
  "celltoolbar": "Slideshow",
  "kernelspec": {
   "display_name": "R",
   "language": "R",
   "name": "ir"
  },
  "language_info": {
   "codemirror_mode": "r",
   "file_extension": ".r",
   "mimetype": "text/x-r-source",
   "name": "R",
   "pygments_lexer": "r",
   "version": "4.0.5"
  }
 },
 "nbformat": 4,
 "nbformat_minor": 4
}
