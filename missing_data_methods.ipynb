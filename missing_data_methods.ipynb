{
 "cells": [
  {
   "cell_type": "markdown",
   "id": "23df31f0",
   "metadata": {
    "slideshow": {
     "slide_type": "slide"
    }
   },
   "source": [
    "<center><h1>Missing Data Methods & Mechanisms</h1></center>\n",
    "<center><h3>Paul Stey</h3></center>"
   ]
  },
  {
   "cell_type": "markdown",
   "id": "2e2c5fbc",
   "metadata": {
    "slideshow": {
     "slide_type": "slide"
    }
   },
   "source": [
    "# 1. Missing Data Methods\n",
    "\n",
    "  * Entire field of research in statistics\n",
    "  * Two canonical textbooks\n",
    "    - _Statistical Analysis with Missing Data_, Little \\& Rubin\n",
    "    - _Applied Missing Data Analysis_, Enders"
   ]
  },
  {
   "cell_type": "markdown",
   "id": "53993988",
   "metadata": {
    "slideshow": {
     "slide_type": "subslide"
    }
   },
   "source": [
    "## 1.1 Missing Data\n",
    "\n",
    "In general, missing data refers to any instance in which we have a variable for which one or more of our observations is not present.\n",
    "\n",
    "<br>\n",
    "<br>\n",
    "<center>¯\\_(ツ)_/¯</center>"
   ]
  },
  {
   "cell_type": "markdown",
   "id": "dc30c146",
   "metadata": {
    "slideshow": {
     "slide_type": "subslide"
    }
   },
   "source": [
    "### 1.1.1 Why are data missing?\n",
    "    \n",
    "Missing data may arise for any number of reasons. For example,\n",
    " 1. Patient left our clinical trial early\n",
    " 2. Survey respondent failed to complete all items on the questionnaire\n",
    " 3. Hard drive failure on server storing data\n",
    " 4. Respondent declined to answer question"
   ]
  },
  {
   "cell_type": "markdown",
   "id": "2a0570e8",
   "metadata": {
    "slideshow": {
     "slide_type": "subslide"
    }
   },
   "source": [
    "### 1.2.1 Mechanisms of Missingness\n",
    "\n",
    "There are a few recognized forms of missingness, often called _missingness mechanisms_\n",
    "\n",
    "\n",
    "* Missing completely at random (MCAR)\n",
    "* Missing at random (MAR)\n",
    "* Missing not at random (MNAR)"
   ]
  },
  {
   "cell_type": "markdown",
   "id": "da486518",
   "metadata": {
    "slideshow": {
     "slide_type": "subslide"
    }
   },
   "source": [
    "### 1.2.2 Missing Completely At Random (MCAR)\n",
    "\n",
    "The designation \"missing completely at random\" is used when the probability of missing data on a variable, $Y$, is _not_ related to other measured variables, nor to $Y$ itself."
   ]
  },
  {
   "cell_type": "markdown",
   "id": "34107fd9",
   "metadata": {
    "slideshow": {
     "slide_type": "subslide"
    }
   },
   "source": [
    "### 1.2.3 Missing at Random (MAR)\n",
    "\n",
    "Data are said to be \"missing at random\" when the probability of missing data on a variable, say $Y$, is related to some other measured variable(s) in the model, but not $Y$ itself."
   ]
  },
  {
   "cell_type": "markdown",
   "id": "ccbbb7e2",
   "metadata": {
    "slideshow": {
     "slide_type": "subslide"
    }
   },
   "source": [
    "### 1.2.4 Missing Not at Random (MNAR)\n",
    "\n",
    "Data are described as \"missing not at random\" when the probability of missing data on a variable, $Y$, is related to the variable $Y$ itself."
   ]
  },
  {
   "cell_type": "markdown",
   "id": "fe69ec87",
   "metadata": {
    "slideshow": {
     "slide_type": "slide"
    }
   },
   "source": [
    "# 2. Methods of Addressing Missingness\n",
    "\n",
    "\n",
    "Many approaches to dealing with missingness. They differ quite substantially in the properties and when they can be used (if at all)."
   ]
  },
  {
   "cell_type": "markdown",
   "id": "c82374c1",
   "metadata": {
    "slideshow": {
     "slide_type": "subslide"
    }
   },
   "source": [
    "## 2.1 Listwise Deletion\n",
    "\n",
    "* Delete all data from observations with missing values\n",
    "* Not a good idea\n",
    "* But very commonly done, nonetheless"
   ]
  },
  {
   "cell_type": "markdown",
   "id": "d4c8f6fe",
   "metadata": {
    "slideshow": {
     "slide_type": "subslide"
    }
   },
   "source": [
    "### 2.1.1. Listwise Deletion Example"
   ]
  },
  {
   "cell_type": "code",
   "execution_count": null,
   "id": "5b672c24",
   "metadata": {
    "slideshow": {
     "slide_type": "-"
    }
   },
   "outputs": [],
   "source": [
    "arrests_df <- read.csv(\"data/pvd_arrests_2021-10-03.csv\")\n",
    "\n",
    "dim(arrests_df)"
   ]
  },
  {
   "cell_type": "code",
   "execution_count": null,
   "id": "e0896fed",
   "metadata": {
    "slideshow": {
     "slide_type": "-"
    }
   },
   "outputs": [],
   "source": [
    "is_complete_obs <- complete.cases(arrests_df)\n",
    "\n",
    "arrests_comp <- arrests_df[is_complete_obs, ]\n",
    "\n",
    "dim(arrests_comp)"
   ]
  },
  {
   "cell_type": "markdown",
   "id": "e44ddad7",
   "metadata": {
    "slideshow": {
     "slide_type": "subslide"
    }
   },
   "source": [
    "## 2.2 Single Imputation\n",
    "\n",
    "* Examples: mean imputation, regression imputation, simple random sample (\"hot-deck\") imputation\n",
    "* Better than deletion, but introduces bias\n",
    "* Some single imputation methods reduce variance in our variables\n"
   ]
  },
  {
   "cell_type": "markdown",
   "id": "3314157a",
   "metadata": {
    "slideshow": {
     "slide_type": "subslide"
    }
   },
   "source": [
    "<img src=\"images/mean_impute.png\"></img>"
   ]
  },
  {
   "cell_type": "markdown",
   "id": "1f9e1706",
   "metadata": {
    "slideshow": {
     "slide_type": "subslide"
    }
   },
   "source": [
    "<img src=\"images/regression_impute.png\"></img>\n"
   ]
  },
  {
   "cell_type": "markdown",
   "id": "b23bbb55",
   "metadata": {
    "slideshow": {
     "slide_type": "subslide"
    }
   },
   "source": [
    "### 2.1.1 Simple Random Sample (\"hot-deck\") Imputation\n",
    "\n",
    "* Replaces missing values with random sample of observed values\n",
    "* Preserve distributional properties"
   ]
  },
  {
   "cell_type": "code",
   "execution_count": null,
   "id": "526df401",
   "metadata": {
    "slideshow": {
     "slide_type": "-"
    }
   },
   "outputs": [],
   "source": [
    "hotdeck <- function(v) {\n",
    "    obs_values <- v[!is.na(v)]\n",
    "    n <- length(v)\n",
    "    \n",
    "    for (i in 1:n) {\n",
    "        if (is.na(v[i])) {\n",
    "            v[i] <- sample(obs_values, 1)\n",
    "        }\n",
    "    }\n",
    "    return(v)\n",
    "}"
   ]
  },
  {
   "cell_type": "markdown",
   "id": "ec0aabde",
   "metadata": {
    "slideshow": {
     "slide_type": "subslide"
    }
   },
   "source": [
    "### 2.1.2 Running \"Hot-Deck\" Example"
   ]
  },
  {
   "cell_type": "code",
   "execution_count": null,
   "id": "03edc479",
   "metadata": {
    "slideshow": {
     "slide_type": "-"
    }
   },
   "outputs": [],
   "source": [
    "animals <- c(\"cat\", \"dog\", \"cat\", NA, NA, \"dog\", \"bird\", NA, \"dog\", NA)"
   ]
  },
  {
   "cell_type": "code",
   "execution_count": null,
   "id": "c5715e33",
   "metadata": {
    "slideshow": {
     "slide_type": "-"
    }
   },
   "outputs": [],
   "source": [
    "animals_comp <- hotdeck(animals)\n",
    "\n",
    "table(animals_comp)"
   ]
  },
  {
   "cell_type": "markdown",
   "id": "f2d74592",
   "metadata": {
    "slideshow": {
     "slide_type": "subslide"
    }
   },
   "source": [
    "## 2.3 Multiple Imputation\n",
    "\n",
    "* Current \"gold-standard\" in missing data methods\n",
    "* Preserves variance-covariance matrix of data set\n",
    "* Implemented in _mice_ package in R"
   ]
  }
 ],
 "metadata": {
  "@webio": {
   "lastCommId": null,
   "lastKernelId": null
  },
  "celltoolbar": "Slideshow",
  "kernelspec": {
   "display_name": "R",
   "language": "R",
   "name": "ir"
  },
  "language_info": {
   "codemirror_mode": "r",
   "file_extension": ".r",
   "mimetype": "text/x-r-source",
   "name": "R",
   "pygments_lexer": "r",
   "version": "4.0.5"
  }
 },
 "nbformat": 4,
 "nbformat_minor": 5
}
