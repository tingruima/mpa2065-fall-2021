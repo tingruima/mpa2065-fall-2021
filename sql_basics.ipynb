{
 "cells": [
  {
   "cell_type": "markdown",
   "metadata": {
    "slideshow": {
     "slide_type": "slide"
    }
   },
   "source": [
    "<center><h1>Introduction to SQL</h1></center>"
   ]
  },
  {
   "cell_type": "markdown",
   "metadata": {
    "slideshow": {
     "slide_type": "slide"
    }
   },
   "source": [
    "# 1. What is SQL?\n",
    "\n",
    " - Structured Query Language\n",
    " - Oftern pronounced \"sequel\" or by simply saying the letters (i.e., \"ess cue el\")\n",
    " - Programming language for relational databases\n",
    " - Absolutely ubiquitous\n",
    "  + Used by industry, governement, academia, everyone!"
   ]
  },
  {
   "cell_type": "markdown",
   "metadata": {
    "slideshow": {
     "slide_type": "subslide"
    }
   },
   "source": [
    "## 1.1 History, Motivations, and Standardization of SQL\n",
    "\n",
    " - Relational model proposed by Ted Codd in 1970\n",
    " - First software developed in the 70s and 80s by IBM and Oracle\n",
    " - First ANSI standard in 1986\n",
    " - Declarative language for querying relational databases"
   ]
  },
  {
   "cell_type": "markdown",
   "metadata": {
    "slideshow": {
     "slide_type": "subslide"
    }
   },
   "source": [
    "### 1.1.1 What makes SQL a Declarative Language?\n",
    "\n",
    "- We don't have variables in the traditional sense\n",
    "- We don't specify steps to take, or operations to peform\n",
    "  + We don't have explicit loops for iteration\n",
    "  + Instead we only what the \"result set\" should contain\n",
    "  + The only \"objects\" we can create are `TABLE` objects, which are basically dataframes\n",
    " "
   ]
  },
  {
   "cell_type": "markdown",
   "metadata": {
    "slideshow": {
     "slide_type": "subslide"
    }
   },
   "source": [
    "\n",
    "## 1.2 Relational Databases\n",
    "\n",
    " - Collection of 1 or more tables\n",
    " - Tables have columns and rows\n",
    "   + Rows represent \"records\"; columns represent \"fields\" or variables"
   ]
  },
  {
   "cell_type": "markdown",
   "metadata": {
    "slideshow": {
     "slide_type": "subslide"
    }
   },
   "source": [
    "### 1.2.1 Example Database Schema\n",
    "\n",
    "<img src=\"images/relational_db.png\" width = \"800px\"/>"
   ]
  },
  {
   "cell_type": "markdown",
   "metadata": {
    "slideshow": {
     "slide_type": "subslide"
    }
   },
   "source": [
    "### 1.2.2 Relational Database Management Systems (RDBMS)\n",
    "\n",
    "  - Software the implents a relational databases\n",
    "  - Allow us to:\n",
    "    + create databases\n",
    "    + create tables in databases\n",
    "    + create users and control their access\n",
    "    + query tables to extract data\n",
    "    + add new data in to tables\n",
    "    "
   ]
  },
  {
   "cell_type": "markdown",
   "metadata": {
    "slideshow": {
     "slide_type": "subslide"
    }
   },
   "source": [
    "### 1.2.3 Varieties of SQL and RDBMS\n",
    "\n",
    "  - Different RDBMS implement slightly different dialects of SQL\n",
    "  - RDBMS also provide features not in SQL standard\n",
    "  - Examples of RDBMS:\n",
    "    + Microsoft SQL Server\n",
    "    + Oracle \n",
    "    + MySQL\n",
    "    + PostgreSQL\n",
    "    + Sqlite "
   ]
  },
  {
   "cell_type": "markdown",
   "metadata": {
    "slideshow": {
     "slide_type": "slide"
    }
   },
   "source": [
    "# 2. Typical SQL Query\n",
    "\n",
    "- Commands that query table(s) in a DB and return some output (often in tabular form)"
   ]
  },
  {
   "cell_type": "markdown",
   "metadata": {
    "slideshow": {
     "slide_type": "subslide"
    }
   },
   "source": [
    "## 2.1 The `SELECT` Statement\n",
    "\n",
    "- Often the start of a query\n",
    "- Specifies the columns we want "
   ]
  },
  {
   "cell_type": "markdown",
   "metadata": {
    "slideshow": {
     "slide_type": "subslide"
    }
   },
   "source": [
    "### 2.1.1 Motivating Example\n",
    "\n",
    "- Suppose we run an online retailer (e.g., Amazon)\n",
    "- We have a database with these tables:\n",
    "  + `customers`\n",
    "  + `orders`\n",
    "  + `products`"
   ]
  },
  {
   "cell_type": "code",
   "execution_count": 1,
   "metadata": {
    "slideshow": {
     "slide_type": "-"
    }
   },
   "outputs": [],
   "source": [
    "%load data/amzn.db"
   ]
  },
  {
   "cell_type": "markdown",
   "metadata": {
    "slideshow": {
     "slide_type": "subslide"
    }
   },
   "source": [
    "### 2.1.2 Query the `products` Table"
   ]
  },
  {
   "cell_type": "code",
   "execution_count": 2,
   "metadata": {
    "slideshow": {
     "slide_type": "-"
    }
   },
   "outputs": [
    {
     "data": {
      "text/html": [
       "<table>\n",
       "<tr>\n",
       "<th>product</th>\n",
       "<th>price</th>\n",
       "<th>product_id</th>\n",
       "</tr>\n",
       "<tr>\n",
       "<td>rake</td>\n",
       "<td>19.99</td>\n",
       "<td>44</td>\n",
       "</tr>\n",
       "<tr>\n",
       "<td>shoe horn</td>\n",
       "<td>5.99</td>\n",
       "<td>33</td>\n",
       "</tr>\n",
       "<tr>\n",
       "<td>potato</td>\n",
       "<td>0.99</td>\n",
       "<td>22</td>\n",
       "</tr>\n",
       "<tr>\n",
       "<td>bike</td>\n",
       "<td>123.5</td>\n",
       "<td>12</td>\n",
       "</tr>\n",
       "<tr>\n",
       "<td>table</td>\n",
       "<td>78.55</td>\n",
       "<td>123</td>\n",
       "</tr>\n",
       "<tr>\n",
       "<td>cup</td>\n",
       "<td>2.5</td>\n",
       "<td>232</td>\n",
       "</tr>\n",
       "<tr>\n",
       "<td>ball</td>\n",
       "<td>5.5</td>\n",
       "<td>28</td>\n",
       "</tr>\n",
       "<tr>\n",
       "<td>pencil</td>\n",
       "<td>2.99</td>\n",
       "<td>22</td>\n",
       "</tr>\n",
       "<tr>\n",
       "<td>teapot</td>\n",
       "<td>12.49</td>\n",
       "<td>11</td>\n",
       "</tr>\n",
       "<tr>\n",
       "<td>fork</td>\n",
       "<td>1.99</td>\n",
       "<td>13</td>\n",
       "</tr>\n",
       "<tr>\n",
       "<td>shoelace</td>\n",
       "<td>0.5</td>\n",
       "<td>14</td>\n",
       "</tr>\n",
       "<tr>\n",
       "<td>hammer</td>\n",
       "<td>17.49</td>\n",
       "<td>555</td>\n",
       "</tr>\n",
       "<tr>\n",
       "<td>door</td>\n",
       "<td>159.99</td>\n",
       "<td>66</td>\n",
       "</tr>\n",
       "</table>"
      ],
      "text/plain": [
       "+-----------+--------+------------+\n",
       "| product   | price  | product_id |\n",
       "+-----------+--------+------------+\n",
       "| rake      | 19.99  | 44         |\n",
       "+-----------+--------+------------+\n",
       "| shoe horn | 5.99   | 33         |\n",
       "+-----------+--------+------------+\n",
       "| potato    | 0.99   | 22         |\n",
       "+-----------+--------+------------+\n",
       "| bike      | 123.5  | 12         |\n",
       "+-----------+--------+------------+\n",
       "| table     | 78.55  | 123        |\n",
       "+-----------+--------+------------+\n",
       "| cup       | 2.5    | 232        |\n",
       "+-----------+--------+------------+\n",
       "| ball      | 5.5    | 28         |\n",
       "+-----------+--------+------------+\n",
       "| pencil    | 2.99   | 22         |\n",
       "+-----------+--------+------------+\n",
       "| teapot    | 12.49  | 11         |\n",
       "+-----------+--------+------------+\n",
       "| fork      | 1.99   | 13         |\n",
       "+-----------+--------+------------+\n",
       "| shoelace  | 0.5    | 14         |\n",
       "+-----------+--------+------------+\n",
       "| hammer    | 17.49  | 555        |\n",
       "+-----------+--------+------------+\n",
       "| door      | 159.99 | 66         |\n",
       "+-----------+--------+------------+"
      ]
     },
     "execution_count": 2,
     "metadata": {},
     "output_type": "execute_result"
    }
   ],
   "source": [
    "SELECT \n",
    "    product,           -- these are the columns we want to include\n",
    "    price,\n",
    "    product_id\n",
    "FROM \n",
    "    products           -- this is the table we are querying from\n",
    ";"
   ]
  },
  {
   "cell_type": "markdown",
   "metadata": {
    "slideshow": {
     "slide_type": "subslide"
    }
   },
   "source": [
    "### 2.1.3 Query the `orders` Table"
   ]
  },
  {
   "cell_type": "code",
   "execution_count": 3,
   "metadata": {
    "slideshow": {
     "slide_type": "-"
    }
   },
   "outputs": [
    {
     "data": {
      "text/html": [
       "<table>\n",
       "<tr>\n",
       "<th>order_id</th>\n",
       "<th>customer</th>\n",
       "<th>date</th>\n",
       "</tr>\n",
       "<tr>\n",
       "<td>1</td>\n",
       "<td>lee</td>\n",
       "<td>2018-12-23</td>\n",
       "</tr>\n",
       "<tr>\n",
       "<td>2</td>\n",
       "<td>smith</td>\n",
       "<td>2020-03-12</td>\n",
       "</tr>\n",
       "<tr>\n",
       "<td>3</td>\n",
       "<td>jones</td>\n",
       "<td>2019-05-01</td>\n",
       "</tr>\n",
       "<tr>\n",
       "<td>4</td>\n",
       "<td>yang</td>\n",
       "<td>2020-09-12</td>\n",
       "</tr>\n",
       "<tr>\n",
       "<td>5</td>\n",
       "<td>guerra </td>\n",
       "<td>2020-08-03</td>\n",
       "</tr>\n",
       "<tr>\n",
       "<td>6</td>\n",
       "<td>diaz</td>\n",
       "<td>2020-11-28</td>\n",
       "</tr>\n",
       "<tr>\n",
       "<td>7</td>\n",
       "<td>riley</td>\n",
       "<td>2019-05-18</td>\n",
       "</tr>\n",
       "<tr>\n",
       "<td>8</td>\n",
       "<td>chan</td>\n",
       "<td>2018-10-03</td>\n",
       "</tr>\n",
       "</table>"
      ],
      "text/plain": [
       "+----------+----------+------------+\n",
       "| order_id | customer | date       |\n",
       "+----------+----------+------------+\n",
       "| 1        | lee      | 2018-12-23 |\n",
       "+----------+----------+------------+\n",
       "| 2        | smith    | 2020-03-12 |\n",
       "+----------+----------+------------+\n",
       "| 3        | jones    | 2019-05-01 |\n",
       "+----------+----------+------------+\n",
       "| 4        | yang     | 2020-09-12 |\n",
       "+----------+----------+------------+\n",
       "| 5        | guerra   | 2020-08-03 |\n",
       "+----------+----------+------------+\n",
       "| 6        | diaz     | 2020-11-28 |\n",
       "+----------+----------+------------+\n",
       "| 7        | riley    | 2019-05-18 |\n",
       "+----------+----------+------------+\n",
       "| 8        | chan     | 2018-10-03 |\n",
       "+----------+----------+------------+"
      ]
     },
     "execution_count": 3,
     "metadata": {},
     "output_type": "execute_result"
    }
   ],
   "source": [
    "SELECT \n",
    "    order_id,\n",
    "    customer,\n",
    "    date\n",
    "FROM \n",
    "    orders\n",
    ";"
   ]
  },
  {
   "cell_type": "markdown",
   "metadata": {
    "slideshow": {
     "slide_type": "subslide"
    }
   },
   "source": [
    "### 2.1.3 Query using `SELECT *`"
   ]
  },
  {
   "cell_type": "code",
   "execution_count": 4,
   "metadata": {
    "slideshow": {
     "slide_type": "-"
    }
   },
   "outputs": [
    {
     "data": {
      "text/html": [
       "<table>\n",
       "<tr>\n",
       "<th>order_id</th>\n",
       "<th>customer</th>\n",
       "<th>date</th>\n",
       "<th>product_id</th>\n",
       "<th>quantity</th>\n",
       "</tr>\n",
       "<tr>\n",
       "<td>1</td>\n",
       "<td>lee</td>\n",
       "<td>2018-12-23</td>\n",
       "<td>44</td>\n",
       "<td>1</td>\n",
       "</tr>\n",
       "<tr>\n",
       "<td>2</td>\n",
       "<td>smith</td>\n",
       "<td>2020-03-12</td>\n",
       "<td>33</td>\n",
       "<td>1</td>\n",
       "</tr>\n",
       "<tr>\n",
       "<td>3</td>\n",
       "<td>jones</td>\n",
       "<td>2019-05-01</td>\n",
       "<td>212</td>\n",
       "<td>2</td>\n",
       "</tr>\n",
       "<tr>\n",
       "<td>4</td>\n",
       "<td>yang</td>\n",
       "<td>2020-09-12</td>\n",
       "<td>12</td>\n",
       "<td>1</td>\n",
       "</tr>\n",
       "<tr>\n",
       "<td>5</td>\n",
       "<td>guerra </td>\n",
       "<td>2020-08-03</td>\n",
       "<td>12</td>\n",
       "<td>2</td>\n",
       "</tr>\n",
       "<tr>\n",
       "<td>6</td>\n",
       "<td>diaz</td>\n",
       "<td>2020-11-28</td>\n",
       "<td>123</td>\n",
       "<td>2</td>\n",
       "</tr>\n",
       "<tr>\n",
       "<td>7</td>\n",
       "<td>riley</td>\n",
       "<td>2019-05-18</td>\n",
       "<td>232</td>\n",
       "<td>4</td>\n",
       "</tr>\n",
       "<tr>\n",
       "<td>8</td>\n",
       "<td>chan</td>\n",
       "<td>2018-10-03</td>\n",
       "<td>28</td>\n",
       "<td>1</td>\n",
       "</tr>\n",
       "</table>"
      ],
      "text/plain": [
       "+----------+----------+------------+------------+----------+\n",
       "| order_id | customer | date       | product_id | quantity |\n",
       "+----------+----------+------------+------------+----------+\n",
       "| 1        | lee      | 2018-12-23 | 44         | 1        |\n",
       "+----------+----------+------------+------------+----------+\n",
       "| 2        | smith    | 2020-03-12 | 33         | 1        |\n",
       "+----------+----------+------------+------------+----------+\n",
       "| 3        | jones    | 2019-05-01 | 212        | 2        |\n",
       "+----------+----------+------------+------------+----------+\n",
       "| 4        | yang     | 2020-09-12 | 12         | 1        |\n",
       "+----------+----------+------------+------------+----------+\n",
       "| 5        | guerra   | 2020-08-03 | 12         | 2        |\n",
       "+----------+----------+------------+------------+----------+\n",
       "| 6        | diaz     | 2020-11-28 | 123        | 2        |\n",
       "+----------+----------+------------+------------+----------+\n",
       "| 7        | riley    | 2019-05-18 | 232        | 4        |\n",
       "+----------+----------+------------+------------+----------+\n",
       "| 8        | chan     | 2018-10-03 | 28         | 1        |\n",
       "+----------+----------+------------+------------+----------+"
      ]
     },
     "execution_count": 4,
     "metadata": {},
     "output_type": "execute_result"
    }
   ],
   "source": [
    "SELECT \n",
    "    *\n",
    "FROM \n",
    "    orders\n",
    ";"
   ]
  },
  {
   "cell_type": "markdown",
   "metadata": {
    "slideshow": {
     "slide_type": "subslide"
    }
   },
   "source": [
    "### 2.1.4 Query Without Formatting\n",
    "\n",
    "- Capitalization, indentation, and other formatting oftern doesn't matter in SQL\n",
    "- But you should use good standards, so others can read your code"
   ]
  },
  {
   "cell_type": "code",
   "execution_count": 5,
   "metadata": {
    "slideshow": {
     "slide_type": "-"
    }
   },
   "outputs": [
    {
     "data": {
      "text/html": [
       "<table>\n",
       "<tr>\n",
       "<th>order_id</th>\n",
       "<th>customer</th>\n",
       "<th>date</th>\n",
       "<th>product_id</th>\n",
       "<th>quantity</th>\n",
       "</tr>\n",
       "<tr>\n",
       "<td>1</td>\n",
       "<td>lee</td>\n",
       "<td>2018-12-23</td>\n",
       "<td>44</td>\n",
       "<td>1</td>\n",
       "</tr>\n",
       "<tr>\n",
       "<td>2</td>\n",
       "<td>smith</td>\n",
       "<td>2020-03-12</td>\n",
       "<td>33</td>\n",
       "<td>1</td>\n",
       "</tr>\n",
       "<tr>\n",
       "<td>3</td>\n",
       "<td>jones</td>\n",
       "<td>2019-05-01</td>\n",
       "<td>212</td>\n",
       "<td>2</td>\n",
       "</tr>\n",
       "<tr>\n",
       "<td>4</td>\n",
       "<td>yang</td>\n",
       "<td>2020-09-12</td>\n",
       "<td>12</td>\n",
       "<td>1</td>\n",
       "</tr>\n",
       "<tr>\n",
       "<td>5</td>\n",
       "<td>guerra </td>\n",
       "<td>2020-08-03</td>\n",
       "<td>12</td>\n",
       "<td>2</td>\n",
       "</tr>\n",
       "<tr>\n",
       "<td>6</td>\n",
       "<td>diaz</td>\n",
       "<td>2020-11-28</td>\n",
       "<td>123</td>\n",
       "<td>2</td>\n",
       "</tr>\n",
       "<tr>\n",
       "<td>7</td>\n",
       "<td>riley</td>\n",
       "<td>2019-05-18</td>\n",
       "<td>232</td>\n",
       "<td>4</td>\n",
       "</tr>\n",
       "<tr>\n",
       "<td>8</td>\n",
       "<td>chan</td>\n",
       "<td>2018-10-03</td>\n",
       "<td>28</td>\n",
       "<td>1</td>\n",
       "</tr>\n",
       "</table>"
      ],
      "text/plain": [
       "+----------+----------+------------+------------+----------+\n",
       "| order_id | customer | date       | product_id | quantity |\n",
       "+----------+----------+------------+------------+----------+\n",
       "| 1        | lee      | 2018-12-23 | 44         | 1        |\n",
       "+----------+----------+------------+------------+----------+\n",
       "| 2        | smith    | 2020-03-12 | 33         | 1        |\n",
       "+----------+----------+------------+------------+----------+\n",
       "| 3        | jones    | 2019-05-01 | 212        | 2        |\n",
       "+----------+----------+------------+------------+----------+\n",
       "| 4        | yang     | 2020-09-12 | 12         | 1        |\n",
       "+----------+----------+------------+------------+----------+\n",
       "| 5        | guerra   | 2020-08-03 | 12         | 2        |\n",
       "+----------+----------+------------+------------+----------+\n",
       "| 6        | diaz     | 2020-11-28 | 123        | 2        |\n",
       "+----------+----------+------------+------------+----------+\n",
       "| 7        | riley    | 2019-05-18 | 232        | 4        |\n",
       "+----------+----------+------------+------------+----------+\n",
       "| 8        | chan     | 2018-10-03 | 28         | 1        |\n",
       "+----------+----------+------------+------------+----------+"
      ]
     },
     "execution_count": 5,
     "metadata": {},
     "output_type": "execute_result"
    }
   ],
   "source": [
    "select * from orders;"
   ]
  },
  {
   "cell_type": "markdown",
   "metadata": {
    "slideshow": {
     "slide_type": "subslide"
    }
   },
   "source": [
    "## 2.2 Ordering the Result Set\n",
    "\n",
    "- We can use the `ORDER BY` statement to control the order of our results"
   ]
  },
  {
   "cell_type": "code",
   "execution_count": 6,
   "metadata": {},
   "outputs": [
    {
     "data": {
      "text/html": [
       "<table>\n",
       "<tr>\n",
       "<th>product_id</th>\n",
       "<th>product</th>\n",
       "<th>price</th>\n",
       "<th>supplier_id</th>\n",
       "</tr>\n",
       "<tr>\n",
       "<td>14</td>\n",
       "<td>shoelace</td>\n",
       "<td>0.5</td>\n",
       "<td>8787</td>\n",
       "</tr>\n",
       "<tr>\n",
       "<td>22</td>\n",
       "<td>potato</td>\n",
       "<td>0.99</td>\n",
       "<td>65656</td>\n",
       "</tr>\n",
       "<tr>\n",
       "<td>13</td>\n",
       "<td>fork</td>\n",
       "<td>1.99</td>\n",
       "<td>86787</td>\n",
       "</tr>\n",
       "<tr>\n",
       "<td>11</td>\n",
       "<td>teapot</td>\n",
       "<td>12.49</td>\n",
       "<td>6565</td>\n",
       "</tr>\n",
       "<tr>\n",
       "<td>12</td>\n",
       "<td>bike</td>\n",
       "<td>123.5</td>\n",
       "<td>232</td>\n",
       "</tr>\n",
       "<tr>\n",
       "<td>66</td>\n",
       "<td>door</td>\n",
       "<td>159.99</td>\n",
       "<td>9889</td>\n",
       "</tr>\n",
       "<tr>\n",
       "<td>555</td>\n",
       "<td>hammer</td>\n",
       "<td>17.49</td>\n",
       "<td>7878</td>\n",
       "</tr>\n",
       "<tr>\n",
       "<td>44</td>\n",
       "<td>rake</td>\n",
       "<td>19.99</td>\n",
       "<td>65656</td>\n",
       "</tr>\n",
       "<tr>\n",
       "<td>232</td>\n",
       "<td>cup</td>\n",
       "<td>2.5</td>\n",
       "<td>4333</td>\n",
       "</tr>\n",
       "<tr>\n",
       "<td>22</td>\n",
       "<td>pencil</td>\n",
       "<td>2.99</td>\n",
       "<td>3232</td>\n",
       "</tr>\n",
       "<tr>\n",
       "<td>28</td>\n",
       "<td>ball</td>\n",
       "<td>5.5</td>\n",
       "<td>2323</td>\n",
       "</tr>\n",
       "<tr>\n",
       "<td>33</td>\n",
       "<td>shoe horn</td>\n",
       "<td>5.99</td>\n",
       "<td>3434</td>\n",
       "</tr>\n",
       "<tr>\n",
       "<td>123</td>\n",
       "<td>table</td>\n",
       "<td>78.55</td>\n",
       "<td>54545</td>\n",
       "</tr>\n",
       "</table>"
      ],
      "text/plain": [
       "+------------+-----------+--------+-------------+\n",
       "| product_id | product   | price  | supplier_id |\n",
       "+------------+-----------+--------+-------------+\n",
       "| 14         | shoelace  | 0.5    | 8787        |\n",
       "+------------+-----------+--------+-------------+\n",
       "| 22         | potato    | 0.99   | 65656       |\n",
       "+------------+-----------+--------+-------------+\n",
       "| 13         | fork      | 1.99   | 86787       |\n",
       "+------------+-----------+--------+-------------+\n",
       "| 11         | teapot    | 12.49  | 6565        |\n",
       "+------------+-----------+--------+-------------+\n",
       "| 12         | bike      | 123.5  | 232         |\n",
       "+------------+-----------+--------+-------------+\n",
       "| 66         | door      | 159.99 | 9889        |\n",
       "+------------+-----------+--------+-------------+\n",
       "| 555        | hammer    | 17.49  | 7878        |\n",
       "+------------+-----------+--------+-------------+\n",
       "| 44         | rake      | 19.99  | 65656       |\n",
       "+------------+-----------+--------+-------------+\n",
       "| 232        | cup       | 2.5    | 4333        |\n",
       "+------------+-----------+--------+-------------+\n",
       "| 22         | pencil    | 2.99   | 3232        |\n",
       "+------------+-----------+--------+-------------+\n",
       "| 28         | ball      | 5.5    | 2323        |\n",
       "+------------+-----------+--------+-------------+\n",
       "| 33         | shoe horn | 5.99   | 3434        |\n",
       "+------------+-----------+--------+-------------+\n",
       "| 123        | table     | 78.55  | 54545       |\n",
       "+------------+-----------+--------+-------------+"
      ]
     },
     "execution_count": 6,
     "metadata": {},
     "output_type": "execute_result"
    }
   ],
   "source": [
    "SELECT \n",
    "    * \n",
    "FROM \n",
    "    products\n",
    "ORDER BY \n",
    "    price\n",
    ";"
   ]
  },
  {
   "cell_type": "markdown",
   "metadata": {
    "slideshow": {
     "slide_type": "slide"
    }
   },
   "source": [
    "## 3. The `WHERE` Clause\n",
    "\n",
    "- We can use `WHERE` to set filering criteria\n",
    "- Similar to the `filter()` function _dplyr_ in R"
   ]
  },
  {
   "cell_type": "markdown",
   "metadata": {
    "slideshow": {
     "slide_type": "subslide"
    }
   },
   "source": [
    "## 3.1 Using `WHERE` in Query"
   ]
  },
  {
   "cell_type": "code",
   "execution_count": 7,
   "metadata": {
    "slideshow": {
     "slide_type": "-"
    }
   },
   "outputs": [
    {
     "data": {
      "text/html": [
       "<table>\n",
       "<tr>\n",
       "<th>order_id</th>\n",
       "<th>customer</th>\n",
       "<th>date</th>\n",
       "<th>quantity</th>\n",
       "</tr>\n",
       "<tr>\n",
       "<td>3</td>\n",
       "<td>jones</td>\n",
       "<td>2019-05-01</td>\n",
       "<td>2</td>\n",
       "</tr>\n",
       "<tr>\n",
       "<td>5</td>\n",
       "<td>guerra </td>\n",
       "<td>2020-08-03</td>\n",
       "<td>2</td>\n",
       "</tr>\n",
       "<tr>\n",
       "<td>6</td>\n",
       "<td>diaz</td>\n",
       "<td>2020-11-28</td>\n",
       "<td>2</td>\n",
       "</tr>\n",
       "<tr>\n",
       "<td>7</td>\n",
       "<td>riley</td>\n",
       "<td>2019-05-18</td>\n",
       "<td>4</td>\n",
       "</tr>\n",
       "</table>"
      ],
      "text/plain": [
       "+----------+----------+------------+----------+\n",
       "| order_id | customer | date       | quantity |\n",
       "+----------+----------+------------+----------+\n",
       "| 3        | jones    | 2019-05-01 | 2        |\n",
       "+----------+----------+------------+----------+\n",
       "| 5        | guerra   | 2020-08-03 | 2        |\n",
       "+----------+----------+------------+----------+\n",
       "| 6        | diaz     | 2020-11-28 | 2        |\n",
       "+----------+----------+------------+----------+\n",
       "| 7        | riley    | 2019-05-18 | 4        |\n",
       "+----------+----------+------------+----------+"
      ]
     },
     "execution_count": 7,
     "metadata": {},
     "output_type": "execute_result"
    }
   ],
   "source": [
    "SELECT \n",
    "    order_id,\n",
    "    customer,\n",
    "    date,\n",
    "    quantity\n",
    "FROM\n",
    "    orders\n",
    "WHERE \n",
    "    quantity > 1\n",
    ";"
   ]
  },
  {
   "cell_type": "markdown",
   "metadata": {
    "slideshow": {
     "slide_type": "subslide"
    }
   },
   "source": [
    "### 3.1.1 More Conditions in `WHERE` Clause\n",
    "\n",
    "- We can actually specify quite a bit of criteria for rows we want to include using our `WHERE`\n",
    "  + This includes testing for a columns equality to some value (or set of values)"
   ]
  },
  {
   "cell_type": "code",
   "execution_count": 8,
   "metadata": {
    "slideshow": {
     "slide_type": "fragment"
    }
   },
   "outputs": [
    {
     "data": {
      "text/html": [
       "<table>\n",
       "<tr>\n",
       "<th>order_id</th>\n",
       "<th>customer</th>\n",
       "<th>date</th>\n",
       "<th>quantity</th>\n",
       "</tr>\n",
       "<tr>\n",
       "<td>1</td>\n",
       "<td>lee</td>\n",
       "<td>2018-12-23</td>\n",
       "<td>1</td>\n",
       "</tr>\n",
       "<tr>\n",
       "<td>3</td>\n",
       "<td>jones</td>\n",
       "<td>2019-05-01</td>\n",
       "<td>2</td>\n",
       "</tr>\n",
       "<tr>\n",
       "<td>5</td>\n",
       "<td>guerra </td>\n",
       "<td>2020-08-03</td>\n",
       "<td>2</td>\n",
       "</tr>\n",
       "<tr>\n",
       "<td>6</td>\n",
       "<td>diaz</td>\n",
       "<td>2020-11-28</td>\n",
       "<td>2</td>\n",
       "</tr>\n",
       "<tr>\n",
       "<td>7</td>\n",
       "<td>riley</td>\n",
       "<td>2019-05-18</td>\n",
       "<td>4</td>\n",
       "</tr>\n",
       "</table>"
      ],
      "text/plain": [
       "+----------+----------+------------+----------+\n",
       "| order_id | customer | date       | quantity |\n",
       "+----------+----------+------------+----------+\n",
       "| 1        | lee      | 2018-12-23 | 1        |\n",
       "+----------+----------+------------+----------+\n",
       "| 3        | jones    | 2019-05-01 | 2        |\n",
       "+----------+----------+------------+----------+\n",
       "| 5        | guerra   | 2020-08-03 | 2        |\n",
       "+----------+----------+------------+----------+\n",
       "| 6        | diaz     | 2020-11-28 | 2        |\n",
       "+----------+----------+------------+----------+\n",
       "| 7        | riley    | 2019-05-18 | 4        |\n",
       "+----------+----------+------------+----------+"
      ]
     },
     "execution_count": 8,
     "metadata": {},
     "output_type": "execute_result"
    }
   ],
   "source": [
    "SELECT \n",
    "    order_id,\n",
    "    customer,\n",
    "    date,\n",
    "    quantity\n",
    "FROM\n",
    "    orders\n",
    "WHERE \n",
    "    quantity > 1 \n",
    "    OR customer = 'lee'\n",
    ";"
   ]
  },
  {
   "cell_type": "markdown",
   "metadata": {
    "slideshow": {
     "slide_type": "slide"
    }
   },
   "source": [
    "# 4. `JOIN` Allows us to Expand our Query's Result Set\n",
    "\n",
    "- If you'll recall, we used `leftjoin()` from _dplyr_ in R\n",
    "  + This function was inspired by SQL\n",
    "  + Frequently hear the term \"SQL-style join\""
   ]
  },
  {
   "cell_type": "markdown",
   "metadata": {
    "slideshow": {
     "slide_type": "subslide"
    }
   },
   "source": [
    "## 4.1 Some Terminology\n",
    "\n",
    "- Joins are performed by using a given column that appears in both tables being joined\n",
    "- Frequently, the column being used to join on is \"primary key\" or a \"foreign key\"\n",
    "  + A primary key is the column that acts as the unique identifier for a given record (i.e., row) \n",
    "  + A foreign key is a column in a table that is associated with a primary key in another table\n",
    "- Caveat:\n",
    "  + Both primary keys and foreign keys can be a combination of columns (ignore this for now)"
   ]
  },
  {
   "cell_type": "markdown",
   "metadata": {
    "slideshow": {
     "slide_type": "subslide"
    }
   },
   "source": [
    "## 4.2 Example `JOIN`\n",
    "\n",
    "- Recall our `amzn.db` database has several tables\n",
    "  + `orders`\n",
    "  + `products`\n",
    "  + `customer`\n",
    "- Suppose we want to know what each customer paid for their order\n",
    "- This will invole a query across `orders` and `products`, since the price information is in the `products` table"
   ]
  },
  {
   "cell_type": "code",
   "execution_count": 22,
   "metadata": {
    "slideshow": {
     "slide_type": "-"
    }
   },
   "outputs": [],
   "source": [
    "%load data/amzn.db"
   ]
  },
  {
   "cell_type": "markdown",
   "metadata": {
    "slideshow": {
     "slide_type": "subslide"
    }
   },
   "source": [
    "### 4.2.1 Simple Query using `SELECT`"
   ]
  },
  {
   "cell_type": "code",
   "execution_count": 10,
   "metadata": {
    "slideshow": {
     "slide_type": "-"
    }
   },
   "outputs": [
    {
     "data": {
      "text/html": [
       "<table>\n",
       "<tr>\n",
       "<th>customer</th>\n",
       "<th>date</th>\n",
       "<th>product_id</th>\n",
       "</tr>\n",
       "<tr>\n",
       "<td>lee</td>\n",
       "<td>2018-12-23</td>\n",
       "<td>44</td>\n",
       "</tr>\n",
       "<tr>\n",
       "<td>smith</td>\n",
       "<td>2020-03-12</td>\n",
       "<td>33</td>\n",
       "</tr>\n",
       "<tr>\n",
       "<td>jones</td>\n",
       "<td>2019-05-01</td>\n",
       "<td>212</td>\n",
       "</tr>\n",
       "<tr>\n",
       "<td>yang</td>\n",
       "<td>2020-09-12</td>\n",
       "<td>12</td>\n",
       "</tr>\n",
       "<tr>\n",
       "<td>guerra </td>\n",
       "<td>2020-08-03</td>\n",
       "<td>12</td>\n",
       "</tr>\n",
       "<tr>\n",
       "<td>diaz</td>\n",
       "<td>2020-11-28</td>\n",
       "<td>123</td>\n",
       "</tr>\n",
       "<tr>\n",
       "<td>riley</td>\n",
       "<td>2019-05-18</td>\n",
       "<td>232</td>\n",
       "</tr>\n",
       "<tr>\n",
       "<td>chan</td>\n",
       "<td>2018-10-03</td>\n",
       "<td>28</td>\n",
       "</tr>\n",
       "</table>"
      ],
      "text/plain": [
       "+----------+------------+------------+\n",
       "| customer | date       | product_id |\n",
       "+----------+------------+------------+\n",
       "| lee      | 2018-12-23 | 44         |\n",
       "+----------+------------+------------+\n",
       "| smith    | 2020-03-12 | 33         |\n",
       "+----------+------------+------------+\n",
       "| jones    | 2019-05-01 | 212        |\n",
       "+----------+------------+------------+\n",
       "| yang     | 2020-09-12 | 12         |\n",
       "+----------+------------+------------+\n",
       "| guerra   | 2020-08-03 | 12         |\n",
       "+----------+------------+------------+\n",
       "| diaz     | 2020-11-28 | 123        |\n",
       "+----------+------------+------------+\n",
       "| riley    | 2019-05-18 | 232        |\n",
       "+----------+------------+------------+\n",
       "| chan     | 2018-10-03 | 28         |\n",
       "+----------+------------+------------+"
      ]
     },
     "execution_count": 10,
     "metadata": {},
     "output_type": "execute_result"
    }
   ],
   "source": [
    "SELECT \n",
    "    customer,      -- these are the columns (i.e., \"fields\") we want\n",
    "    date,\n",
    "    product_id\n",
    "FROM \n",
    "    orders         -- this is the table we pull from\n",
    ";"
   ]
  },
  {
   "cell_type": "markdown",
   "metadata": {
    "slideshow": {
     "slide_type": "subslide"
    }
   },
   "source": [
    "## 4.3 Motivating Example\n",
    "\n",
    "- Suppose we want to obtian the total cost of every order \n",
    "- Note that our `orders` table does not contain price information\n",
    "- The `orders` table does have a `product_id` field\n",
    "  + the `product_id` field can be used to link (i.e., \"join\") to the `product` table\n"
   ]
  },
  {
   "cell_type": "code",
   "execution_count": 11,
   "metadata": {
    "slideshow": {
     "slide_type": "-"
    }
   },
   "outputs": [
    {
     "data": {
      "text/html": [
       "<table>\n",
       "<tr>\n",
       "<th>customer</th>\n",
       "<th>quantity</th>\n",
       "<th>product</th>\n",
       "<th>price</th>\n",
       "</tr>\n",
       "<tr>\n",
       "<td>lee</td>\n",
       "<td>1</td>\n",
       "<td>rake</td>\n",
       "<td>19.99</td>\n",
       "</tr>\n",
       "<tr>\n",
       "<td>smith</td>\n",
       "<td>1</td>\n",
       "<td>shoe horn</td>\n",
       "<td>5.99</td>\n",
       "</tr>\n",
       "<tr>\n",
       "<td>yang</td>\n",
       "<td>1</td>\n",
       "<td>bike</td>\n",
       "<td>123.5</td>\n",
       "</tr>\n",
       "<tr>\n",
       "<td>guerra </td>\n",
       "<td>2</td>\n",
       "<td>bike</td>\n",
       "<td>123.5</td>\n",
       "</tr>\n",
       "<tr>\n",
       "<td>diaz</td>\n",
       "<td>2</td>\n",
       "<td>table</td>\n",
       "<td>78.55</td>\n",
       "</tr>\n",
       "<tr>\n",
       "<td>riley</td>\n",
       "<td>4</td>\n",
       "<td>cup</td>\n",
       "<td>2.5</td>\n",
       "</tr>\n",
       "<tr>\n",
       "<td>chan</td>\n",
       "<td>1</td>\n",
       "<td>ball</td>\n",
       "<td>5.5</td>\n",
       "</tr>\n",
       "</table>"
      ],
      "text/plain": [
       "+----------+----------+-----------+-------+\n",
       "| customer | quantity | product   | price |\n",
       "+----------+----------+-----------+-------+\n",
       "| lee      | 1        | rake      | 19.99 |\n",
       "+----------+----------+-----------+-------+\n",
       "| smith    | 1        | shoe horn | 5.99  |\n",
       "+----------+----------+-----------+-------+\n",
       "| yang     | 1        | bike      | 123.5 |\n",
       "+----------+----------+-----------+-------+\n",
       "| guerra   | 2        | bike      | 123.5 |\n",
       "+----------+----------+-----------+-------+\n",
       "| diaz     | 2        | table     | 78.55 |\n",
       "+----------+----------+-----------+-------+\n",
       "| riley    | 4        | cup       | 2.5   |\n",
       "+----------+----------+-----------+-------+\n",
       "| chan     | 1        | ball      | 5.5   |\n",
       "+----------+----------+-----------+-------+"
      ]
     },
     "execution_count": 11,
     "metadata": {},
     "output_type": "execute_result"
    }
   ],
   "source": [
    "SELECT \n",
    "    customer,\n",
    "    quantity,\n",
    "    product,\n",
    "    price\n",
    "FROM \n",
    "    orders\n",
    "    JOIN products ON orders.product_id = products.product_id\n",
    ";"
   ]
  },
  {
   "cell_type": "markdown",
   "metadata": {
    "slideshow": {
     "slide_type": "subslide"
    }
   },
   "source": [
    "### 4.3.1 Using Table Aliases \n",
    "\n",
    "- It is more idiomatic to alias our table names to something short (e.g., `ord` for `orders`) \n",
    "- We can then use that in the `SELECT` section of our query"
   ]
  },
  {
   "cell_type": "code",
   "execution_count": 12,
   "metadata": {
    "slideshow": {
     "slide_type": "-"
    }
   },
   "outputs": [
    {
     "data": {
      "text/html": [
       "<table>\n",
       "<tr>\n",
       "<th>customer</th>\n",
       "<th>quantity</th>\n",
       "<th>product_id</th>\n",
       "<th>product</th>\n",
       "<th>price</th>\n",
       "</tr>\n",
       "<tr>\n",
       "<td>lee</td>\n",
       "<td>1</td>\n",
       "<td>44</td>\n",
       "<td>rake</td>\n",
       "<td>19.99</td>\n",
       "</tr>\n",
       "<tr>\n",
       "<td>smith</td>\n",
       "<td>1</td>\n",
       "<td>33</td>\n",
       "<td>shoe horn</td>\n",
       "<td>5.99</td>\n",
       "</tr>\n",
       "<tr>\n",
       "<td>yang</td>\n",
       "<td>1</td>\n",
       "<td>12</td>\n",
       "<td>bike</td>\n",
       "<td>123.5</td>\n",
       "</tr>\n",
       "<tr>\n",
       "<td>guerra </td>\n",
       "<td>2</td>\n",
       "<td>12</td>\n",
       "<td>bike</td>\n",
       "<td>123.5</td>\n",
       "</tr>\n",
       "<tr>\n",
       "<td>diaz</td>\n",
       "<td>2</td>\n",
       "<td>123</td>\n",
       "<td>table</td>\n",
       "<td>78.55</td>\n",
       "</tr>\n",
       "<tr>\n",
       "<td>riley</td>\n",
       "<td>4</td>\n",
       "<td>232</td>\n",
       "<td>cup</td>\n",
       "<td>2.5</td>\n",
       "</tr>\n",
       "<tr>\n",
       "<td>chan</td>\n",
       "<td>1</td>\n",
       "<td>28</td>\n",
       "<td>ball</td>\n",
       "<td>5.5</td>\n",
       "</tr>\n",
       "</table>"
      ],
      "text/plain": [
       "+----------+----------+------------+-----------+-------+\n",
       "| customer | quantity | product_id | product   | price |\n",
       "+----------+----------+------------+-----------+-------+\n",
       "| lee      | 1        | 44         | rake      | 19.99 |\n",
       "+----------+----------+------------+-----------+-------+\n",
       "| smith    | 1        | 33         | shoe horn | 5.99  |\n",
       "+----------+----------+------------+-----------+-------+\n",
       "| yang     | 1        | 12         | bike      | 123.5 |\n",
       "+----------+----------+------------+-----------+-------+\n",
       "| guerra   | 2        | 12         | bike      | 123.5 |\n",
       "+----------+----------+------------+-----------+-------+\n",
       "| diaz     | 2        | 123        | table     | 78.55 |\n",
       "+----------+----------+------------+-----------+-------+\n",
       "| riley    | 4        | 232        | cup       | 2.5   |\n",
       "+----------+----------+------------+-----------+-------+\n",
       "| chan     | 1        | 28         | ball      | 5.5   |\n",
       "+----------+----------+------------+-----------+-------+"
      ]
     },
     "execution_count": 12,
     "metadata": {},
     "output_type": "execute_result"
    }
   ],
   "source": [
    "SELECT \n",
    "    ord.customer,\n",
    "    ord.quantity,\n",
    "    ord.product_id,\n",
    "    pro.product,\n",
    "    pro.price\n",
    "FROM\n",
    "    orders        AS ord \n",
    "    JOIN products AS pro ON ord.product_id = pro.product_id\n",
    ";"
   ]
  },
  {
   "cell_type": "markdown",
   "metadata": {
    "slideshow": {
     "slide_type": "subslide"
    }
   },
   "source": [
    "### 4.3.2 Doing Math in `SELECT` Section"
   ]
  },
  {
   "cell_type": "code",
   "execution_count": 13,
   "metadata": {
    "slideshow": {
     "slide_type": "-"
    }
   },
   "outputs": [
    {
     "data": {
      "text/html": [
       "<table>\n",
       "<tr>\n",
       "<th>customer</th>\n",
       "<th>quantity</th>\n",
       "<th>product_id</th>\n",
       "<th>product</th>\n",
       "<th>price</th>\n",
       "<th>total_cost</th>\n",
       "</tr>\n",
       "<tr>\n",
       "<td>lee</td>\n",
       "<td>1</td>\n",
       "<td>44</td>\n",
       "<td>rake</td>\n",
       "<td>19.99</td>\n",
       "<td>19.99</td>\n",
       "</tr>\n",
       "<tr>\n",
       "<td>smith</td>\n",
       "<td>1</td>\n",
       "<td>33</td>\n",
       "<td>shoe horn</td>\n",
       "<td>5.99</td>\n",
       "<td>5.99</td>\n",
       "</tr>\n",
       "<tr>\n",
       "<td>yang</td>\n",
       "<td>1</td>\n",
       "<td>12</td>\n",
       "<td>bike</td>\n",
       "<td>123.5</td>\n",
       "<td>123.5</td>\n",
       "</tr>\n",
       "<tr>\n",
       "<td>guerra </td>\n",
       "<td>2</td>\n",
       "<td>12</td>\n",
       "<td>bike</td>\n",
       "<td>123.5</td>\n",
       "<td>247.0</td>\n",
       "</tr>\n",
       "<tr>\n",
       "<td>diaz</td>\n",
       "<td>2</td>\n",
       "<td>123</td>\n",
       "<td>table</td>\n",
       "<td>78.55</td>\n",
       "<td>157.1</td>\n",
       "</tr>\n",
       "<tr>\n",
       "<td>riley</td>\n",
       "<td>4</td>\n",
       "<td>232</td>\n",
       "<td>cup</td>\n",
       "<td>2.5</td>\n",
       "<td>10.0</td>\n",
       "</tr>\n",
       "<tr>\n",
       "<td>chan</td>\n",
       "<td>1</td>\n",
       "<td>28</td>\n",
       "<td>ball</td>\n",
       "<td>5.5</td>\n",
       "<td>5.5</td>\n",
       "</tr>\n",
       "</table>"
      ],
      "text/plain": [
       "+----------+----------+------------+-----------+-------+------------+\n",
       "| customer | quantity | product_id | product   | price | total_cost |\n",
       "+----------+----------+------------+-----------+-------+------------+\n",
       "| lee      | 1        | 44         | rake      | 19.99 | 19.99      |\n",
       "+----------+----------+------------+-----------+-------+------------+\n",
       "| smith    | 1        | 33         | shoe horn | 5.99  | 5.99       |\n",
       "+----------+----------+------------+-----------+-------+------------+\n",
       "| yang     | 1        | 12         | bike      | 123.5 | 123.5      |\n",
       "+----------+----------+------------+-----------+-------+------------+\n",
       "| guerra   | 2        | 12         | bike      | 123.5 | 247.0      |\n",
       "+----------+----------+------------+-----------+-------+------------+\n",
       "| diaz     | 2        | 123        | table     | 78.55 | 157.1      |\n",
       "+----------+----------+------------+-----------+-------+------------+\n",
       "| riley    | 4        | 232        | cup       | 2.5   | 10.0       |\n",
       "+----------+----------+------------+-----------+-------+------------+\n",
       "| chan     | 1        | 28         | ball      | 5.5   | 5.5        |\n",
       "+----------+----------+------------+-----------+-------+------------+"
      ]
     },
     "execution_count": 13,
     "metadata": {},
     "output_type": "execute_result"
    }
   ],
   "source": [
    "SELECT \n",
    "    ord.customer,\n",
    "    ord.quantity,\n",
    "    ord.product_id,\n",
    "    pro.product,\n",
    "    pro.price,\n",
    "    (pro.price * ord.quantity) AS total_cost\n",
    "FROM\n",
    "    orders        AS ord \n",
    "    JOIN products AS pro ON ord.product_id = pro.product_id\n",
    ";"
   ]
  },
  {
   "cell_type": "markdown",
   "metadata": {
    "slideshow": {
     "slide_type": "subslide"
    }
   },
   "source": [
    "### 4.3.3 Filtering Result using `WHERE`\n",
    "\n",
    "- Suppose we only care about order with 2 or more items"
   ]
  },
  {
   "cell_type": "code",
   "execution_count": 14,
   "metadata": {
    "slideshow": {
     "slide_type": "-"
    }
   },
   "outputs": [
    {
     "data": {
      "text/html": [
       "<table>\n",
       "<tr>\n",
       "<th>customer</th>\n",
       "<th>quantity</th>\n",
       "<th>product_id</th>\n",
       "<th>product</th>\n",
       "<th>price</th>\n",
       "<th>total_cost</th>\n",
       "</tr>\n",
       "<tr>\n",
       "<td>guerra </td>\n",
       "<td>2</td>\n",
       "<td>12</td>\n",
       "<td>bike</td>\n",
       "<td>123.5</td>\n",
       "<td>247.0</td>\n",
       "</tr>\n",
       "<tr>\n",
       "<td>diaz</td>\n",
       "<td>2</td>\n",
       "<td>123</td>\n",
       "<td>table</td>\n",
       "<td>78.55</td>\n",
       "<td>157.1</td>\n",
       "</tr>\n",
       "<tr>\n",
       "<td>riley</td>\n",
       "<td>4</td>\n",
       "<td>232</td>\n",
       "<td>cup</td>\n",
       "<td>2.5</td>\n",
       "<td>10.0</td>\n",
       "</tr>\n",
       "</table>"
      ],
      "text/plain": [
       "+----------+----------+------------+---------+-------+------------+\n",
       "| customer | quantity | product_id | product | price | total_cost |\n",
       "+----------+----------+------------+---------+-------+------------+\n",
       "| guerra   | 2        | 12         | bike    | 123.5 | 247.0      |\n",
       "+----------+----------+------------+---------+-------+------------+\n",
       "| diaz     | 2        | 123        | table   | 78.55 | 157.1      |\n",
       "+----------+----------+------------+---------+-------+------------+\n",
       "| riley    | 4        | 232        | cup     | 2.5   | 10.0       |\n",
       "+----------+----------+------------+---------+-------+------------+"
      ]
     },
     "execution_count": 14,
     "metadata": {},
     "output_type": "execute_result"
    }
   ],
   "source": [
    "SELECT \n",
    "    ord.customer,\n",
    "    ord.quantity,\n",
    "    ord.product_id,\n",
    "    pro.product,\n",
    "    pro.price,\n",
    "    (pro.price * ord.quantity) AS total_cost\n",
    "FROM \n",
    "    orders        AS ord \n",
    "    JOIN products AS pro ON ord.product_id = pro.product_id \n",
    "WHERE \n",
    "    ord.quantity > 1\n",
    ";"
   ]
  },
  {
   "cell_type": "markdown",
   "metadata": {
    "slideshow": {
     "slide_type": "subslide"
    }
   },
   "source": [
    "### 4.3.4 Filtering on Multiple Criteria\n",
    "\n",
    "- Recall that we can use the `WHERE` clause to filter according to any number of criteria\n",
    "- Suppose we want either orders with more than 2 items _or_ those with a _particular_ item"
   ]
  },
  {
   "cell_type": "code",
   "execution_count": 19,
   "metadata": {
    "slideshow": {
     "slide_type": "-"
    }
   },
   "outputs": [
    {
     "data": {
      "text/html": [
       "<table>\n",
       "<tr>\n",
       "<th>customer</th>\n",
       "<th>quantity</th>\n",
       "<th>product_id</th>\n",
       "<th>product</th>\n",
       "<th>price</th>\n",
       "<th>total_cost</th>\n",
       "</tr>\n",
       "<tr>\n",
       "<td>lee</td>\n",
       "<td>1</td>\n",
       "<td>44</td>\n",
       "<td>rake</td>\n",
       "<td>19.99</td>\n",
       "<td>19.99</td>\n",
       "</tr>\n",
       "<tr>\n",
       "<td>yang</td>\n",
       "<td>1</td>\n",
       "<td>12</td>\n",
       "<td>bike</td>\n",
       "<td>123.5</td>\n",
       "<td>123.5</td>\n",
       "</tr>\n",
       "<tr>\n",
       "<td>guerra </td>\n",
       "<td>2</td>\n",
       "<td>12</td>\n",
       "<td>bike</td>\n",
       "<td>123.5</td>\n",
       "<td>247.0</td>\n",
       "</tr>\n",
       "<tr>\n",
       "<td>diaz</td>\n",
       "<td>2</td>\n",
       "<td>123</td>\n",
       "<td>table</td>\n",
       "<td>78.55</td>\n",
       "<td>157.1</td>\n",
       "</tr>\n",
       "<tr>\n",
       "<td>riley</td>\n",
       "<td>4</td>\n",
       "<td>232</td>\n",
       "<td>cup</td>\n",
       "<td>2.5</td>\n",
       "<td>10.0</td>\n",
       "</tr>\n",
       "</table>"
      ],
      "text/plain": [
       "+----------+----------+------------+---------+-------+------------+\n",
       "| customer | quantity | product_id | product | price | total_cost |\n",
       "+----------+----------+------------+---------+-------+------------+\n",
       "| lee      | 1        | 44         | rake    | 19.99 | 19.99      |\n",
       "+----------+----------+------------+---------+-------+------------+\n",
       "| yang     | 1        | 12         | bike    | 123.5 | 123.5      |\n",
       "+----------+----------+------------+---------+-------+------------+\n",
       "| guerra   | 2        | 12         | bike    | 123.5 | 247.0      |\n",
       "+----------+----------+------------+---------+-------+------------+\n",
       "| diaz     | 2        | 123        | table   | 78.55 | 157.1      |\n",
       "+----------+----------+------------+---------+-------+------------+\n",
       "| riley    | 4        | 232        | cup     | 2.5   | 10.0       |\n",
       "+----------+----------+------------+---------+-------+------------+"
      ]
     },
     "execution_count": 19,
     "metadata": {},
     "output_type": "execute_result"
    }
   ],
   "source": [
    "SELECT \n",
    "    ord.customer,\n",
    "    ord.quantity,\n",
    "    ord.product_id,\n",
    "    pro.product,\n",
    "    pro.price,\n",
    "    (pro.price * ord.quantity) AS total_cost\n",
    "FROM \n",
    "    orders        AS ord \n",
    "    JOIN products AS pro ON ord.product_id = pro.product_id \n",
    "WHERE \n",
    "    ord.quantity > 1\n",
    "    OR pro.product IN ('rake', 'bike')\n",
    ";"
   ]
  },
  {
   "cell_type": "markdown",
   "metadata": {
    "slideshow": {
     "slide_type": "slide"
    }
   },
   "source": [
    "# 5 Aggregating using `GROUP BY`\n",
    "\n",
    " * SQL also makes it easy to aggregate and summarize data\n",
    " * The `GROUP BY` command allows us to apply \"aggregate functions\"\n",
    "    + For example `SUM()` and `MAX()`"
   ]
  },
  {
   "cell_type": "markdown",
   "metadata": {
    "slideshow": {
     "slide_type": "subslide"
    }
   },
   "source": [
    "## 5.1 Motivating Example `GROUP BY`\n",
    "\n",
    "- Suppose we want to get the total number of items sold for each `product_id`\n"
   ]
  },
  {
   "cell_type": "code",
   "execution_count": 44,
   "metadata": {
    "slideshow": {
     "slide_type": "-"
    }
   },
   "outputs": [
    {
     "data": {
      "text/html": [
       "<table>\n",
       "<tr>\n",
       "<th>product_id</th>\n",
       "<th>SUM(quantity)       -- SUM() is our aggregate function</th>\n",
       "</tr>\n",
       "<tr>\n",
       "<td>12</td>\n",
       "<td>3</td>\n",
       "</tr>\n",
       "<tr>\n",
       "<td>123</td>\n",
       "<td>2</td>\n",
       "</tr>\n",
       "<tr>\n",
       "<td>212</td>\n",
       "<td>2</td>\n",
       "</tr>\n",
       "<tr>\n",
       "<td>232</td>\n",
       "<td>4</td>\n",
       "</tr>\n",
       "<tr>\n",
       "<td>28</td>\n",
       "<td>1</td>\n",
       "</tr>\n",
       "<tr>\n",
       "<td>33</td>\n",
       "<td>1</td>\n",
       "</tr>\n",
       "<tr>\n",
       "<td>44</td>\n",
       "<td>1</td>\n",
       "</tr>\n",
       "</table>"
      ],
      "text/plain": [
       "+------------+--------------------------------------------------------+\n",
       "| product_id | SUM(quantity)       -- SUM() is our aggregate function |\n",
       "+------------+--------------------------------------------------------+\n",
       "| 12         | 3                                                      |\n",
       "+------------+--------------------------------------------------------+\n",
       "| 123        | 2                                                      |\n",
       "+------------+--------------------------------------------------------+\n",
       "| 212        | 2                                                      |\n",
       "+------------+--------------------------------------------------------+\n",
       "| 232        | 4                                                      |\n",
       "+------------+--------------------------------------------------------+\n",
       "| 28         | 1                                                      |\n",
       "+------------+--------------------------------------------------------+\n",
       "| 33         | 1                                                      |\n",
       "+------------+--------------------------------------------------------+\n",
       "| 44         | 1                                                      |\n",
       "+------------+--------------------------------------------------------+"
      ]
     },
     "execution_count": 44,
     "metadata": {},
     "output_type": "execute_result"
    }
   ],
   "source": [
    "SELECT \n",
    "    product_id,\n",
    "    SUM(quantity)       -- SUM() is our aggregate function\n",
    "FROM\n",
    "    orders\n",
    "GROUP BY \n",
    "    product_id\n",
    ";"
   ]
  },
  {
   "cell_type": "markdown",
   "metadata": {
    "slideshow": {
     "slide_type": "slide"
    }
   },
   "source": [
    "<center><h1>Challenge Question:</h1></center> \n",
    "\n",
    "Write a SQL query that returns the total revenue collected across all sales. As a hint, this will need to involve a `JOIN`."
   ]
  },
  {
   "cell_type": "code",
   "execution_count": 39,
   "metadata": {},
   "outputs": [
    {
     "data": {
      "text/html": [
       "<table>\n",
       "<tr>\n",
       "<th>order_total</th>\n",
       "<th>order_id</th>\n",
       "<th>customer</th>\n",
       "<th>date</th>\n",
       "<th>product_id</th>\n",
       "<th>quantity</th>\n",
       "<th>product_id</th>\n",
       "<th>product</th>\n",
       "<th>price</th>\n",
       "<th>supplier_id</th>\n",
       "</tr>\n",
       "<tr>\n",
       "<td>19.99</td>\n",
       "<td>1</td>\n",
       "<td>lee</td>\n",
       "<td>2018-12-23</td>\n",
       "<td>44</td>\n",
       "<td>1</td>\n",
       "<td>44</td>\n",
       "<td>rake</td>\n",
       "<td>19.99</td>\n",
       "<td>65656</td>\n",
       "</tr>\n",
       "<tr>\n",
       "<td>5.99</td>\n",
       "<td>2</td>\n",
       "<td>smith</td>\n",
       "<td>2020-03-12</td>\n",
       "<td>33</td>\n",
       "<td>1</td>\n",
       "<td>33</td>\n",
       "<td>shoe horn</td>\n",
       "<td>5.99</td>\n",
       "<td>3434</td>\n",
       "</tr>\n",
       "<tr>\n",
       "<td>123.5</td>\n",
       "<td>4</td>\n",
       "<td>yang</td>\n",
       "<td>2020-09-12</td>\n",
       "<td>12</td>\n",
       "<td>1</td>\n",
       "<td>12</td>\n",
       "<td>bike</td>\n",
       "<td>123.5</td>\n",
       "<td>232</td>\n",
       "</tr>\n",
       "<tr>\n",
       "<td>247.0</td>\n",
       "<td>5</td>\n",
       "<td>guerra </td>\n",
       "<td>2020-08-03</td>\n",
       "<td>12</td>\n",
       "<td>2</td>\n",
       "<td>12</td>\n",
       "<td>bike</td>\n",
       "<td>123.5</td>\n",
       "<td>232</td>\n",
       "</tr>\n",
       "<tr>\n",
       "<td>157.1</td>\n",
       "<td>6</td>\n",
       "<td>diaz</td>\n",
       "<td>2020-11-28</td>\n",
       "<td>123</td>\n",
       "<td>2</td>\n",
       "<td>123</td>\n",
       "<td>table</td>\n",
       "<td>78.55</td>\n",
       "<td>54545</td>\n",
       "</tr>\n",
       "<tr>\n",
       "<td>10.0</td>\n",
       "<td>7</td>\n",
       "<td>riley</td>\n",
       "<td>2019-05-18</td>\n",
       "<td>232</td>\n",
       "<td>4</td>\n",
       "<td>232</td>\n",
       "<td>cup</td>\n",
       "<td>2.5</td>\n",
       "<td>4333</td>\n",
       "</tr>\n",
       "<tr>\n",
       "<td>5.5</td>\n",
       "<td>8</td>\n",
       "<td>chan</td>\n",
       "<td>2018-10-03</td>\n",
       "<td>28</td>\n",
       "<td>1</td>\n",
       "<td>28</td>\n",
       "<td>ball</td>\n",
       "<td>5.5</td>\n",
       "<td>2323</td>\n",
       "</tr>\n",
       "</table>"
      ],
      "text/plain": [
       "+-------------+----------+----------+------------+------------+----------+------------+-----------+-------+-------------+\n",
       "| order_total | order_id | customer | date       | product_id | quantity | product_id | product   | price | supplier_id |\n",
       "+-------------+----------+----------+------------+------------+----------+------------+-----------+-------+-------------+\n",
       "| 19.99       | 1        | lee      | 2018-12-23 | 44         | 1        | 44         | rake      | 19.99 | 65656       |\n",
       "+-------------+----------+----------+------------+------------+----------+------------+-----------+-------+-------------+\n",
       "| 5.99        | 2        | smith    | 2020-03-12 | 33         | 1        | 33         | shoe horn | 5.99  | 3434        |\n",
       "+-------------+----------+----------+------------+------------+----------+------------+-----------+-------+-------------+\n",
       "| 123.5       | 4        | yang     | 2020-09-12 | 12         | 1        | 12         | bike      | 123.5 | 232         |\n",
       "+-------------+----------+----------+------------+------------+----------+------------+-----------+-------+-------------+\n",
       "| 247.0       | 5        | guerra   | 2020-08-03 | 12         | 2        | 12         | bike      | 123.5 | 232         |\n",
       "+-------------+----------+----------+------------+------------+----------+------------+-----------+-------+-------------+\n",
       "| 157.1       | 6        | diaz     | 2020-11-28 | 123        | 2        | 123        | table     | 78.55 | 54545       |\n",
       "+-------------+----------+----------+------------+------------+----------+------------+-----------+-------+-------------+\n",
       "| 10.0        | 7        | riley    | 2019-05-18 | 232        | 4        | 232        | cup       | 2.5   | 4333        |\n",
       "+-------------+----------+----------+------------+------------+----------+------------+-----------+-------+-------------+\n",
       "| 5.5         | 8        | chan     | 2018-10-03 | 28         | 1        | 28         | ball      | 5.5   | 2323        |\n",
       "+-------------+----------+----------+------------+------------+----------+------------+-----------+-------+-------------+"
      ]
     },
     "execution_count": 39,
     "metadata": {},
     "output_type": "execute_result"
    }
   ],
   "source": [
    "SELECT \n",
    "    \n",
    "    (price*quantity) AS order_total,\n",
    "    *\n",
    "FROM \n",
    "    orders  \n",
    "    JOIN products ON orders.product_id = products.product_id\n",
    "    \n",
    "    \n"
   ]
  },
  {
   "cell_type": "code",
   "execution_count": 34,
   "metadata": {},
   "outputs": [
    {
     "data": {
      "text/html": [
       "<table>\n",
       "<tr>\n",
       "<th>total_revenue</th>\n",
       "</tr>\n",
       "<tr>\n",
       "<td>569.08</td>\n",
       "</tr>\n",
       "</table>"
      ],
      "text/plain": [
       "+---------------+\n",
       "| total_revenue |\n",
       "+---------------+\n",
       "| 569.08        |\n",
       "+---------------+"
      ]
     },
     "execution_count": 34,
     "metadata": {},
     "output_type": "execute_result"
    }
   ],
   "source": [
    "SELECT \n",
    "SUM(quantity * price) AS total_revenue\n",
    "FROM\n",
    "orders AS o\n",
    "JOIN products AS p ON o.product_id = p.product_id"
   ]
  },
  {
   "cell_type": "code",
   "execution_count": null,
   "metadata": {},
   "outputs": [],
   "source": []
  }
 ],
 "metadata": {
  "@webio": {
   "lastCommId": null,
   "lastKernelId": null
  },
  "celltoolbar": "Slideshow",
  "kernelspec": {
   "display_name": "xsqlite",
   "language": "sqlite",
   "name": "xsqlite"
  },
  "language_info": {
   "codemirror_mode": "sql",
   "file_extension": "",
   "mimetype": "",
   "name": "sqlite3",
   "version": "3.33.0"
  }
 },
 "nbformat": 4,
 "nbformat_minor": 4
}
